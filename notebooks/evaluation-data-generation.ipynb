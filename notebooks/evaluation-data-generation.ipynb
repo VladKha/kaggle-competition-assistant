{
 "cells": [
  {
   "cell_type": "code",
   "id": "98b352f8a56a8825",
   "metadata": {
    "ExecuteTime": {
     "end_time": "2024-09-16T12:31:23.596350Z",
     "start_time": "2024-09-16T12:31:20.248352Z"
    }
   },
   "source": [
    "import logging\n",
    "import json\n",
    "\n",
    "import pandas as pd\n",
    "from tqdm.auto import tqdm\n",
    "\n",
    "from dotenv import load_dotenv\n",
    "load_dotenv('../.env')\n",
    "\n",
    "from kaggle_competition_assistant import llm\n",
    "from kaggle_competition_assistant.utils import create_documents\n",
    "\n",
    "logging.basicConfig(level=logging.INFO, format='%(asctime)s - %(name)s - %(levelname)s - %(message)s')"
   ],
   "outputs": [],
   "execution_count": 1
  },
  {
   "cell_type": "code",
   "id": "9c4d07772499a897",
   "metadata": {
    "ExecuteTime": {
     "end_time": "2024-09-16T12:31:24.781315Z",
     "start_time": "2024-09-16T12:31:23.614701Z"
    }
   },
   "source": [
    "response = llm('tell me a joke')\n",
    "print(response[0])"
   ],
   "outputs": [
    {
     "name": "stderr",
     "output_type": "stream",
     "text": [
      "2024-09-16 14:31:23,615 - kaggle_competition_copilot.llm - INFO - Starting LLM request to google/gemini-1.5-flash-latest...\n",
      "2024-09-16 14:31:24,779 - kaggle_competition_copilot.llm - INFO - LLM request successfully finished.\n"
     ]
    },
    {
     "name": "stdout",
     "output_type": "stream",
     "text": [
      "Why don't scientists trust atoms?\n",
      "\n",
      "Because they make up everything! \n",
      "\n"
     ]
    }
   ],
   "execution_count": 2
  },
  {
   "cell_type": "markdown",
   "id": "2793e775572d17e8",
   "metadata": {},
   "source": "## Data generation"
  },
  {
   "cell_type": "code",
   "id": "93d306e4493d07f9",
   "metadata": {
    "ExecuteTime": {
     "end_time": "2024-09-16T12:38:38.040417Z",
     "start_time": "2024-09-16T12:38:37.996358Z"
    }
   },
   "source": [
    "competition_slug = 'rohlik-orders-forecasting-challenge'\n",
    "# competition_slug = 'llm-zoomcamp-2024-competition'\n",
    "competition_data_path = '../data/' + competition_slug\n",
    "documents = create_documents(competition_slug, competition_data_path)"
   ],
   "outputs": [
    {
     "name": "stderr",
     "output_type": "stream",
     "text": [
      "2024-09-16 14:38:37,998 - kaggle_competition_copilot.utils - INFO - Starting creating documents for rohlik-orders-forecasting-challenge...\n",
      "2024-09-16 14:38:38,038 - kaggle_competition_copilot.utils - INFO - Documents created: 1117\n"
     ]
    }
   ],
   "execution_count": 20
  },
  {
   "cell_type": "code",
   "id": "e4e382e1a88eff32",
   "metadata": {
    "ExecuteTime": {
     "end_time": "2024-09-16T12:38:38.992480Z",
     "start_time": "2024-09-16T12:38:38.988878Z"
    }
   },
   "source": [
    "documents[0]"
   ],
   "outputs": [
    {
     "data": {
      "text/plain": [
       "{'source': 'overview',\n",
       " 'section': 'competition name',\n",
       " 'text': 'Rohlik Orders Forecasting Challenge',\n",
       " 'url': 'https://www.kaggle.com/competitions/rohlik-orders-forecasting-challenge/overview',\n",
       " 'id': 0}"
      ]
     },
     "execution_count": 21,
     "metadata": {},
     "output_type": "execute_result"
    }
   ],
   "execution_count": 21
  },
  {
   "cell_type": "code",
   "id": "fac9a03b3fe73259",
   "metadata": {
    "ExecuteTime": {
     "end_time": "2024-09-16T12:38:39.960285Z",
     "start_time": "2024-09-16T12:38:39.957551Z"
    }
   },
   "source": [
    "documents[-1]"
   ],
   "outputs": [
    {
     "data": {
      "text/plain": [
       "{'source': 'discussions',\n",
       " 'section': 'Calendar only have data from Budapest',\n",
       " 'text': '[Yan Teixeira](/yantxx) · 19th in this Competition · Posted 3 months ago\\n\\n\\n### Calendar only have data from Budapest\\nBoth the train and test calendars only contain data from Budapest. Was this\\nintended? From reading the description of the data, I thought this dataset was\\nsupposed to include data for all warehouses.\\n\\n\\n## 3 Comments\\n\\n\\n### [MichalKecera](/mkecera)\\nHi [@yantxx](https://www.kaggle.com/yantxx),  \\nGood catch. Thanks. This is now corrected - it has all the warehouses.\\n\\n\\n### [Yan Teixeira](/yantxx)\\n[@mkecera](https://www.kaggle.com/mkecera) I have another quick question\\nBudapest_1 is the only warehouse with a latest date of 2024-03-14, whereas all\\nthe other warehouses have a latest date of 2024-03-15. The first date for all\\nwarehouses in the test set is 2024-03-16, which makes me think that the\\ntraining data might be missing the 2024-03-15 data for Budapest.\\n![](https://www.googleapis.com/download/storage/v1/b/kaggle-forum-message-\\nattachments/o/inbox%2F13062964%2Ffc26ef9639b3c309efea6bd0f3d99b51%2Fwarehouses.png?generation=1717963982169724&alt=media)\\n\\n\\n### [MichalKecera](/mkecera)\\nHi [@yantxx](https://www.kaggle.com/yantxx) 2024-03-15 was a public holiday in\\nBudapest - the warehouse was not open.\\n\\n\\n### [Yan Teixeira](/yantxx)\\n[@mkecera](https://www.kaggle.com/mkecera) Can you share a MAPE benchmark for\\none or more models that Rohlik uses?\\n\\n\\n### [MichalKecera](/mkecera)\\n[@yantxx](https://www.kaggle.com/yantxx) yes, we will do it in a few weeks.\\n',\n",
       " 'url': 'https://www.kaggle.com/competitions/rohlik-orders-forecasting-challenge/discussion/511077',\n",
       " 'id': 1116}"
      ]
     },
     "execution_count": 22,
     "metadata": {},
     "output_type": "execute_result"
    }
   ],
   "execution_count": 22
  },
  {
   "cell_type": "code",
   "id": "76d2438603f7a98f",
   "metadata": {
    "ExecuteTime": {
     "end_time": "2024-09-16T12:38:41.498800Z",
     "start_time": "2024-09-16T12:38:41.494460Z"
    }
   },
   "source": [
    "def build_prompt(doc, n_questions=1):\n",
    "    prompt_template = \"\"\"\n",
    "You are a participant in a Kaggle competition.\n",
    "Formulate exactly {n_questions} question-answer pairs based on information about competition from the record.\n",
    "\n",
    "Questions must:\n",
    "- be semantically unique and diverse\n",
    "- relate directly to the main topic of the record\n",
    "- not expect answers with URLs or using URLs information\n",
    "- be short to medium size\n",
    "- be complete\n",
    "\n",
    "The record must contain the answer to the questions.\n",
    "If possible, use as fewer words as possible from the record for the question.\n",
    "\n",
    "Provide the output in parsable JSON without using any code blocks:\n",
    "{response_format}\n",
    "\n",
    "Record:\n",
    "source: {source}\n",
    "section: {section}\n",
    "text:\n",
    "{text}\n",
    "    \"\"\".strip()\n",
    "    \n",
    "    discussion_prompt_template = \"\"\"\n",
    "You are a participant in a Kaggle competition.\n",
    "Formulate exactly {n_questions} question-answer pairs from the discussion post of the competition.\n",
    "\n",
    "Questions must:\n",
    "- be semantically unique and diverse\n",
    "- relate directly to the main topic of the discussion thread\n",
    "- not expect answers with URLs or using URLs information\n",
    "- be short to medium size\n",
    "- be complete\n",
    "\n",
    "Avoid:\n",
    "- specific questions or answers about exact results numbers, rather use more general form questions\n",
    "- using questions formulated like \"what did you do?\" rather ask more generic form like \"what can be done?\".\n",
    "\n",
    "The discussion post must contain the answer to the questions.\n",
    "\n",
    "Provide the output in parsable JSON without using any code blocks:\n",
    "{response_format}\n",
    "\n",
    "Discussion post:\n",
    "{text}\n",
    "    \"\"\".strip()\n",
    "\n",
    "    if doc['source'] == 'discussions':\n",
    "        prompt = discussion_prompt_template\n",
    "    else:\n",
    "        prompt = prompt_template\n",
    "        \n",
    "    if not doc['section']:\n",
    "        prompt = prompt.replace('\\nsection: {section}', '')\n",
    "        \n",
    "    response_format = '[' + ', '.join([f'{{\"question\": \"answer\"}}' for _ in range(n_questions)]) + ']'\n",
    "        \n",
    "    prompt = prompt.format(**doc, n_questions=n_questions, response_format=response_format)\n",
    "    \n",
    "    return prompt"
   ],
   "outputs": [],
   "execution_count": 23
  },
  {
   "metadata": {},
   "cell_type": "markdown",
   "source": "Test prompt + question generation",
   "id": "8a6a15756a4e392b"
  },
  {
   "cell_type": "code",
   "id": "77a2c2d38199522",
   "metadata": {
    "ExecuteTime": {
     "end_time": "2024-09-16T12:38:43.259499Z",
     "start_time": "2024-09-16T12:38:43.256615Z"
    }
   },
   "source": [
    "prompt = build_prompt(documents[0], n_questions=1)\n",
    "print(prompt)"
   ],
   "outputs": [
    {
     "name": "stdout",
     "output_type": "stream",
     "text": [
      "You are a participant in a Kaggle competition.\n",
      "Formulate exactly 1 question-answer pairs based on information about competition from the record.\n",
      "\n",
      "Questions must:\n",
      "- be semantically unique and diverse\n",
      "- relate directly to the main topic of the record\n",
      "- not expect answers with URLs or using URLs information\n",
      "- be short to medium size\n",
      "- be complete\n",
      "\n",
      "The record must contain the answer to the questions.\n",
      "If possible, use as fewer words as possible from the record for the question.\n",
      "\n",
      "Provide the output in parsable JSON without using any code blocks:\n",
      "[{\"question\": \"answer\"}]\n",
      "\n",
      "Record:\n",
      "source: overview\n",
      "section: competition name\n",
      "text:\n",
      "Rohlik Orders Forecasting Challenge\n"
     ]
    }
   ],
   "execution_count": 24
  },
  {
   "cell_type": "code",
   "id": "3178e6237157975c",
   "metadata": {
    "ExecuteTime": {
     "end_time": "2024-09-16T12:38:49.731049Z",
     "start_time": "2024-09-16T12:38:48.556035Z"
    }
   },
   "source": "questions = llm(prompt)[0]",
   "outputs": [
    {
     "name": "stderr",
     "output_type": "stream",
     "text": [
      "2024-09-16 14:38:48,556 - kaggle_competition_copilot.llm - INFO - Starting LLM request to google/gemini-1.5-flash-latest...\n",
      "2024-09-16 14:38:49,729 - kaggle_competition_copilot.llm - INFO - LLM request successfully finished.\n"
     ]
    }
   ],
   "execution_count": 25
  },
  {
   "metadata": {
    "ExecuteTime": {
     "end_time": "2024-09-16T12:38:49.743906Z",
     "start_time": "2024-09-16T12:38:49.741150Z"
    }
   },
   "cell_type": "code",
   "source": "json.loads(questions)",
   "id": "1cc30add6f7390af",
   "outputs": [
    {
     "data": {
      "text/plain": [
       "[{'question': 'What is the name of the competition?',\n",
       "  'answer': 'Rohlik Orders Forecasting Challenge'}]"
      ]
     },
     "execution_count": 26,
     "metadata": {},
     "output_type": "execute_result"
    }
   ],
   "execution_count": 26
  },
  {
   "metadata": {
    "ExecuteTime": {
     "end_time": "2024-09-16T12:31:53.764303Z",
     "start_time": "2024-09-16T12:31:53.762009Z"
    }
   },
   "cell_type": "code",
   "source": [
    "prompt = build_prompt(documents[-1], n_questions=1)\n",
    "print(prompt)"
   ],
   "id": "cfe8b0d8ff7bef75",
   "outputs": [
    {
     "name": "stdout",
     "output_type": "stream",
     "text": [
      "You are a participant in a Kaggle competition.\n",
      "Formulate exactly 1 question-answer pairs from the discussion post of the competition.\n",
      "\n",
      "Questions must:\n",
      "- be semantically unique and diverse\n",
      "- relate directly to the main topic of the discussion thread\n",
      "- not expect answers with URLs or using URLs information\n",
      "- be short to medium size\n",
      "- be complete\n",
      "\n",
      "Avoid:\n",
      "- specific questions or answers about exact results numbers, rather use more general form questions\n",
      "- using questions formulated like \"what did you do?\" rather ask more generic form like \"what can be done?\".\n",
      "\n",
      "The discussion post must contain the answer to the questions.\n",
      "\n",
      "Provide the output in parsable JSON without using any code blocks:\n",
      "[{\"question\": \"answer\"}]\n",
      "\n",
      "Discussion post:\n",
      "[KABIR OLAWALE MOHAMMED](/kabirolawalemohammed) · 7th in this Competition ·\n",
      "\n",
      "### A good prompt could be a game changer\n",
      "I made submission and got a score 0.5.\n",
      "Ran the same codes again but only this time changing the wordings of my\n",
      "prompt, then the score jumped to 0.8125.\n",
      "\n",
      "\n",
      "## 2 Comments\n",
      "\n",
      "\n",
      "### [Carlos](/gzcarlosrd)\n",
      "Definitely, just adjunting the prompt from the suggested, make a huge\n",
      "difference in the score.\n",
      "\n",
      "\n",
      "### [Thanhnhan29](/thanhnhan29)\n",
      "Thank you for your helpful advice\n",
      "\n"
     ]
    }
   ],
   "execution_count": 10
  },
  {
   "metadata": {
    "ExecuteTime": {
     "end_time": "2024-09-15T18:45:07.407885Z",
     "start_time": "2024-09-15T18:45:06.037215Z"
    }
   },
   "cell_type": "code",
   "source": [
    "questions = llm(prompt, model_choice='google/gemini-1.5-pro-latest')[0]\n",
    "questions"
   ],
   "id": "e4a70c486fa4eb2e",
   "outputs": [
    {
     "name": "stderr",
     "output_type": "stream",
     "text": [
      "2024-09-15 20:45:06,038 - kaggle_competition_copilot.llm - INFO - Starting LLM request to google/gemini-1.5-flash-latest...\n",
      "2024-09-15 20:45:07,405 - kaggle_competition_copilot.llm - INFO - LLM request successfully finished.\n"
     ]
    },
    {
     "data": {
      "text/plain": [
       "'[{\"question\": \"What is the reason why the Budapest_1 warehouse has a latest date of 2024-03-14 while other warehouses have a latest date of 2024-03-15?\", \"answer\": \"2024-03-15 was a public holiday in Budapest and the warehouse was not open.\"}] \\n'"
      ]
     },
     "execution_count": 35,
     "metadata": {},
     "output_type": "execute_result"
    }
   ],
   "execution_count": 35
  },
  {
   "cell_type": "code",
   "id": "49cec7ed2c93d7d1",
   "metadata": {
    "ExecuteTime": {
     "end_time": "2024-09-15T18:45:13.598374Z",
     "start_time": "2024-09-15T18:45:13.592214Z"
    }
   },
   "source": [
    "json.loads(questions)"
   ],
   "outputs": [
    {
     "data": {
      "text/plain": [
       "[{'question': 'What is the reason why the Budapest_1 warehouse has a latest date of 2024-03-14 while other warehouses have a latest date of 2024-03-15?',\n",
       "  'answer': '2024-03-15 was a public holiday in Budapest and the warehouse was not open.'}]"
      ]
     },
     "execution_count": 36,
     "metadata": {},
     "output_type": "execute_result"
    }
   ],
   "execution_count": 36
  },
  {
   "metadata": {},
   "cell_type": "markdown",
   "source": "Generate whole dataset",
   "id": "eea60407fc255ee6"
  },
  {
   "cell_type": "code",
   "id": "ad86defcb1202072",
   "metadata": {
    "ExecuteTime": {
     "end_time": "2024-09-16T13:53:47.236126Z",
     "start_time": "2024-09-16T13:53:47.226770Z"
    }
   },
   "source": [
    "def is_valid_json(json_string):\n",
    "    try:\n",
    "        json.loads(json_string)\n",
    "        return True\n",
    "    except json.JSONDecodeError:\n",
    "        return False\n",
    "\n",
    "def is_qa_pair_valid(qa_pair: dict):\n",
    "    \"\"\"Mini validation of generated result\"\"\"\n",
    "    return 'question' in qa_pair and 'answer' in qa_pair\n",
    "\n",
    "def generate_questions(doc: dict[str]) -> list:        \n",
    "    # select number of questions\n",
    "    if doc['source'] in ['overview', 'data description']:\n",
    "        n_questions = max(len(doc['text'].split('\\n')) // 3, 1)\n",
    "    elif doc['source'] == 'leaderboard':\n",
    "        viable_leaderboard_places = [f'place: {i}\\n' for i in range(1, 6)]\n",
    "        if any(place in doc['text'] for place in viable_leaderboard_places):\n",
    "            n_questions = 1\n",
    "        else:\n",
    "            n_questions = 0\n",
    "    elif doc['source'] == 'discussions':\n",
    "        n_questions = 1\n",
    "    else:\n",
    "        raise ValueError(f'Unexpected doc source: {doc[\"source\"]}')\n",
    "    \n",
    "    # use \"smarter\" model for discussions, since they have more text and require more understanding\n",
    "    if doc['source'] == 'discussions':\n",
    "        model_choice = 'google/gemini-1.5-flash-latest' # pro TODO\n",
    "    else:\n",
    "        model_choice = 'google/gemini-1.5-flash-latest'\n",
    "\n",
    "    # generate questions\n",
    "    if n_questions:        \n",
    "        prompt = build_prompt(doc, n_questions=n_questions)\n",
    "        # print(prompt)\n",
    "        \n",
    "        # generate qa pairs with 3 tries\n",
    "        num_tries = 0\n",
    "        while True:\n",
    "            num_tries += 1\n",
    "            \n",
    "            questions = llm(prompt, model_choice=model_choice)[0]\n",
    "\n",
    "            # still some scrubbing of code blocks required\n",
    "            questions = questions.removeprefix(\"```json\").removesuffix(\"```\")\n",
    "\n",
    "            if is_valid_json(questions):\n",
    "                questions = json.loads(questions)\n",
    "            else:\n",
    "                print(f'Invalid json: {questions}, trying again...')\n",
    "                continue\n",
    "            # print(questions)\n",
    "            \n",
    "            # validate generated results\n",
    "            results_valid = True\n",
    "            for qa_pair in questions:\n",
    "                if not is_qa_pair_valid(qa_pair):\n",
    "                    results_valid = False\n",
    "                    print(f'Invalid qa pair {qa_pair}, trying again...')\n",
    "                    break\n",
    "            \n",
    "            if results_valid or (num_tries == 3):\n",
    "                break\n",
    "            \n",
    "        return questions\n",
    "    \n",
    "    return []"
   ],
   "outputs": [],
   "execution_count": 33
  },
  {
   "cell_type": "code",
   "id": "95afa55d1e055655",
   "metadata": {
    "ExecuteTime": {
     "end_time": "2024-09-16T12:39:02.122266Z",
     "start_time": "2024-09-16T12:39:02.118939Z"
    }
   },
   "source": [
    "results = {}"
   ],
   "outputs": [],
   "execution_count": 28
  },
  {
   "cell_type": "code",
   "id": "dbbce9377f7b6fa4",
   "metadata": {},
   "source": [
    "for doc in tqdm(documents, desc='Generating retrieval evaluation data'): \n",
    "    doc_id = doc['id']\n",
    "    if doc_id in results:\n",
    "        continue\n",
    "\n",
    "    questions = generate_questions(doc)\n",
    "    if questions:\n",
    "        results[doc_id] = questions"
   ],
   "outputs": [],
   "execution_count": null
  },
  {
   "cell_type": "code",
   "id": "cc18f1c8bc3060a4",
   "metadata": {
    "ExecuteTime": {
     "end_time": "2024-09-16T13:55:46.487552Z",
     "start_time": "2024-09-16T13:55:46.478536Z"
    }
   },
   "source": "results",
   "outputs": [
    {
     "data": {
      "text/plain": [
       "{0: [{'question': 'What is the name of the competition?',\n",
       "   'answer': 'Rohlik Orders Forecasting Challenge'}],\n",
       " 1: [{'question': 'What is the main task in the Rohlik Orders Forecasting Challenge?',\n",
       "   'answer': 'Use historical data to predict customer orders'}],\n",
       " 2: [{'question': 'What is the main focus of the Kaggle competition?',\n",
       "   'answer': 'Predicting the number of grocery deliveries at selected warehouses for the next 60 days.'},\n",
       "  {'question': 'In which countries does Rohlik Group operate?',\n",
       "   'answer': 'Czech Republic, Germany, Austria, Hungary, and Romania.'},\n",
       "  {'question': 'When does the competition close?',\n",
       "   'answer': 'August 23, 2024'}],\n",
       " 3: [{'question': 'What is the main reason for needing accurate order forecasts?',\n",
       "   'answer': 'Accurate order forecasts are crucial for planning process, impacting workforce allocation, delivery logistics, inventory management, and supply chain efficiency.'},\n",
       "  {'question': 'What is the expected impact of optimizing forecasts?',\n",
       "   'answer': 'By optimizing forecasts, we can minimize waste and streamline operations, making our e-grocery services more sustainable and efficient.'},\n",
       "  {'question': 'How will participant contributions directly affect Rohlik?',\n",
       "   'answer': 'Your participation in this challenge will directly contribute to Rohlik mission of sustainable and efficient e-grocery delivery. Your insights will help us enhance customer service and achieve a greener future.'}],\n",
       " 4: [{'question': 'What metric is used to evaluate submissions in this Kaggle competition?',\n",
       "   'answer': 'Mean Absolute Percentage Error'}],\n",
       " 5: [{'question': 'What is the name of the column that contains the predicted number of orders?',\n",
       "   'answer': 'ORDERS'},\n",
       "  {'question': 'What is the format of the submission file?',\n",
       "   'answer': 'ID,ORDERS'}],\n",
       " 6: [{'question': 'What is the prize for winning the Kaggle competition?',\n",
       "   'answer': '$5,000'}],\n",
       " 7: [{'question': 'When is the final submission deadline for the competition?',\n",
       "   'answer': 'August 23, 2024'},\n",
       "  {'question': 'What is the last day to merge with another team?',\n",
       "   'answer': 'August 9, 2024'}],\n",
       " 8: [{'question': 'Who is the author of the Rohlik Orders Forecasting Challenge?',\n",
       "   'answer': 'MichalKecera'}],\n",
       " 9: [{'question': 'Who is the host of this Kaggle competition?',\n",
       "   'answer': 'MichalKecera'}],\n",
       " 10: [{'question': 'What is the total prize money for this Kaggle competition?',\n",
       "   'answer': '$12,000'}],\n",
       " 11: [{'question': 'How many teams participated in the competition?',\n",
       "   'answer': '1,017 Teams'}],\n",
       " 12: [{'question': 'What is the objective of the Kaggle competition?',\n",
       "   'answer': \"To forecast the 'orders' column for the test set.\"}],\n",
       " 13: [{'question': \"What files are provided in the competition's dataset?\",\n",
       "   'answer': 'The competition dataset includes train.csv, test.csv, solution_example.csv, train_calendar.csv, and test_calendar.csv.'}],\n",
       " 14: [{'question': 'What is the name of the column that indicates the number of customer orders attributed to the warehouse?',\n",
       "   'answer': 'orders'},\n",
       "  {'question': \"What is the meaning of the column 'shops_closed'?\",\n",
       "   'answer': 'Public holiday with most of the shops or large part of shops closed'},\n",
       "  {'question': \"What is the meaning of the column 'mov_change'?\",\n",
       "   'answer': 'A change in minimum order value indicating potential change in customer behaviour'},\n",
       "  {'question': \"What are the two columns in 'train_calendar.csv' that describe user activity on the website?\",\n",
       "   'answer': 'user_activity_1 and user_activity_2'},\n",
       "  {'question': \"What type of data is contained in the 'id' column?\",\n",
       "   'answer': 'row id consisting of warehouse name and date'},\n",
       "  {'question': \"What is the meaning of the column 'precipitation'?\",\n",
       "   'answer': 'Precipitation in mm around the location of the warehouse which correlates with location of the customers'},\n",
       "  {'question': \"How does 'train_calendar.csv' differ from 'train.csv'?\",\n",
       "   'answer': \"It contains a subset of columns from 'train.csv' but more rows as it contains all dates whereas train.csv does not contain dates where warehouse was closed due to public holidays or other events\"}],\n",
       " 15: [{'question': 'How many files are included in the competition dataset?',\n",
       "   'answer': '5'}],\n",
       " 16: [{'question': 'What is the size of the dataset?', 'answer': '1.44 MB'}],\n",
       " 17: [{'question': 'What is the file format of the data?', 'answer': 'csv'}],\n",
       " 18: [{'question': 'What governs the usage of competition data?',\n",
       "   'answer': 'Competition Rules'}],\n",
       " 19: [{'question': 'What are the names of the data files available for this Kaggle competition?',\n",
       "   'answer': 'The data files are solution_example.csv, test.csv, test_calendar.csv, train.csv, and train_calendar.csv.'},\n",
       "  {'question': 'What is the size of the solution_example.csv file?',\n",
       "   'answer': 'The solution_example.csv file is 1.44 MB.'}],\n",
       " 20: [{'question': 'How many columns are in the dataset?', 'answer': '50'}],\n",
       " 21: [{'question': 'Who won the Kaggle competition?',\n",
       "   'answer': 'Anak Lakarsantri 🇮🇩'}],\n",
       " 22: [{'question': \"What score did the team 'techniquetwice' achieve in the competition?\",\n",
       "   'answer': '0.0366'}],\n",
       " 23: [{'question': \"What is the score of the team 'DerTeam'?\",\n",
       "   'answer': '0.0371'}],\n",
       " 24: [{'question': \"What was the score achieved by the team 'yitiaoxiaoyuer' in the competition?\",\n",
       "   'answer': '0.0374'}],\n",
       " 25: [{'question': 'What was the score of the ChickenBoy team?',\n",
       "   'answer': '0.0396'}],\n",
       " 1038: [{'question': 'What factors contributed to the relative stability of the leaderboard and the absence of a significant shakeup, despite initial expectations of a major shift?',\n",
       "   'answer': \"The stability of the leaderboard, particularly at the top, can be attributed to the nature of the data split.  The training data predates the leaderboard data, and a time-based split aligning with the leaderboard's timeframe reveals a strong correlation between performance on a subset of the test data and overall performance. This suggests that models excelling on the public leaderboard likely excel on the private leaderboard as well, explaining the lack of a major shakeup.\"}],\n",
       " 1039: [{'question': \"What factors can contribute to a large difference between a model's local evaluation score and its public leaderboard score in a Kaggle competition?\",\n",
       "   'answer': 'This is bound to happen. This data is very small and such issues may arise due to even a slight overfitting risk'}],\n",
       " 1040: [{'question': 'What are the possible reasons for the increase in orders observed in the Munich warehouse after January 2022, considering its relatively recent establishment compared to other warehouses?',\n",
       "   'answer': 'The increase in orders observed in the Munich warehouse after January 2022 could be attributed to a couple of factors. Firstly, being a new brand in Munich, the demand might not have normalized yet, unlike the established warehouses where a clear seasonal pattern exists. Secondly, the ending of the Covid-19 wave in Germany around April 2023 could have contributed to the increase, as people resumed normal life and possibly opted for online grocery shopping more.'}],\n",
       " 1041: [{'question': 'What is the observed effect of different order groupings on the z-score stability in the provided analysis?',\n",
       "   'answer': \"The analysis reveals that the z-score of orders remains relatively stable when grouped by warehouse, year, month, and weekday, contrary to the author's initial surprise.\"}],\n",
       " 1042: [{'question': 'How is the public leaderboard split in the competition, according to the experiment?',\n",
       "   'answer': 'The experiment suggests that the public leaderboard is likely split randomly, without a discernible sequence based on row order or location grouping.'}],\n",
       " 1043: [{'question': 'What factor can significantly impact the leaderboard shakeup, aside from the random seed mentioned?',\n",
       "   'answer': \"The size of the test set can significantly impact the leaderboard shakeup, especially if it's small.\"}],\n",
       " 1044: [{'question': 'What can be done to resolve the submission error indicating an incorrect number of columns despite having the expected number?',\n",
       "   'answer': \"You need to remove the index while submitting your submission file. You can use `submission.to_csv('submission.csv', index = False)` to achieve this and resolve the issue.\"}],\n",
       " 1045: [{'question': 'What was the general trend observed regarding the stability of ranks within the top 100 participants of the competition?',\n",
       "   'answer': 'We observe a very low level of stability across ranks 11-100 as mentioned in the table above. This was also expected considering the small size of the data.'}],\n",
       " 1046: [{'question': \"What are some strategies for utilizing the 'user_activity' features in this competition while adhering to the rules against using external data?\",\n",
       "   'answer': \"It could make sense to also investigate if lagged values of user activity would be helpful. That way you can extend them to test without using any external inputs. Or assuming that user activity in future will be an average of the past. So that you don't assume some outlier development in user activity in test. That's why we included this in the dataset.  \\nI would advise against using any completely external data sets to create the solution (it could be leaky).\"}],\n",
       " 1047: [{'question': 'What factors contribute to the difficulty of accurately predicting demand for the Munich warehouse in this competition?',\n",
       "   'answer': 'The Munich warehouse is very recent and could pose prediction difficulties'}],\n",
       " 1048: [{'question': 'What evaluation metric issue related to the data can potentially lead to errors, and how can it be mitigated?',\n",
       "   'answer': \"The evaluation metric MAPE encounters issues when y_true is 0, leading to division by zero. Adding a small value like 1e-15 to the denominator can prevent errors but may significantly impact the evaluation metric's accuracy.\"}],\n",
       " 1049: [{'question': 'If I am unable to submit a solution by the deadline, is it still possible to submit it later?',\n",
       "   'answer': 'You can submit a solution after the deadline, but it will be considered a late submission. Late submissions are not eligible for rewards or points, and some competitions may disable late submissions altogether.'}],\n",
       " 1050: [{'question': 'What is the correlation between lagged user activity and the target variable compared to the correlation of lagged target values with the target variable?',\n",
       "   'answer': 'If comparing the correlation of lagged values against target one can also notice that the lagged user_activity_2 in general has higher correlation with target than the lagged target itself.'}],\n",
       " 1051: [{'question': 'Are there any restrictions on the type of hardware or software used to generate predictions for submission to this competition?',\n",
       "   'answer': 'You are free to use any resource for generating your prediction submission file.  CPU/ GPU/ Kaggle/ Colab/ local PC/ cloud GPU provider/ excel file are all acceptable options.'}],\n",
       " 1052: [{'question': 'What was the impact of replacing the 2020 orders data with the average of 2022 on the private score?',\n",
       "   'answer': \"Using the average of 2022 improved my Private score from 0.0445 to 0.0437. \\nbut i didn't try the approach you mentioned,also using average of other years dropped the score.\"}],\n",
       " 1053: [{'question': 'What types of models were used in the ensemble for the competition?',\n",
       "   'answer': 'The stacked ensemble model used a variety of models, including XGB, LightGBM, CatBoost, and NN for the first layer. For the second layer, CatBoost, XGB, and LightGBM were used.'}],\n",
       " 1054: [{'question': \"What could explain the differences in weekly and annual cycles observed in the Frankfurt warehouse's operations compared to other warehouses?\",\n",
       "   'answer': \"The periodogram plot for Frankfurt looks different to the other warehouses. The differences suggest that Frankfurt has stronger weekly cycles and more stable operations, while Others' patterns are more influenced by annual cycles.\"}],\n",
       " 1055: [{'question': \"Did utilizing the number of continuous days a warehouse was closed before or after a holiday significantly improve your model's performance?\",\n",
       "   'answer': 'When I first implement it, it gave me 0.0003 boost on cv (0.0324 -> 0.0321), 0.0001 boost on pb (0.0336 -> 0.0335) and now I can also see it gave me 0.0010 boost on private score.\\nI also tried to remove these two features from my public notebook, the public / private score all become worse around 0.002x (public from 0.0304 -> 0.0325, while private from 0.0381 -> 0.0410). You can see here for your reference\\nThank you for your asking.'}],\n",
       " 1056: [{'question': 'How do you handle the calendar data, particularly regarding holidays, in your model?',\n",
       "   'answer': 'Below is main idea when I fill holiday:\\n  * In data train, test have column \"holiday\" with values is 0 and 1\\n  * \"fill_calendar2df\" will get holiday from calendar.csv(df_cld) to fill for dataframe\\n  * With each holiday, we mark both before and after the holiday as 1 (treat it as a holiday).\\n  * With 2 special holiday(\\'Labour Day\\' and \\'Easter Monday\\'), we mark 2 days before and one day after the holiday as 1(Only 2 days before the holiday is weighted at 1.3 instead of 1, I hypothesize that users order more to prepare for the holiday.)\\n\\nExample:\\n#### Input - holiday Easter Monday:\\nwarehouse | date | holiday | holiday_name  \\n---|---|---|---  \\nA | 2024-03-28 | 0 | Not  \\nA | 2024-03-29 | 0 | Not  \\nA | 2024-03-30 | 0 | Not  \\nA | 2024-03-31 | 0 | Not  \\nA | 2024-04-01 | 1 | Easter Monday  \\nA | 2024-04-02 | 0 | Not  \\nA | 2024-04-03 | 0 | Not  \\n  \\n#### Output - 2 days before and 1 day after:\\nwarehouse | date | holiday | holiday_name  \\n---|---|---|---  \\nA | 2024-03-28 | 0 | Not  \\nA | 2024-03-29 | 0 | Not  \\nA | 2024-03-30 | 1.3 | Easter Monday  \\nA | 2024-03-31 | 1 | Easter Monday  \\nA | 2024-04-01 | 1 | Easter Monday  \\nA | 2024-04-02 | 1 | Not  \\nA | 2024-04-03 | 0 | Not  \\n  \\n#### I not fill holiday name for day after holiday'}],\n",
       " 1057: [{'question': 'Why is using external data for generating solutions in a Kaggle competition generally discouraged?',\n",
       "   'answer': 'It\\'s discouraged because using information not available at the time of prediction, like future weather or population development, would be \"leaky\" and make the solution impractical for real-world application where such data isn\\'t knowable in advance.'}],\n",
       " 1058: [{'question': \"What techniques can be used to predict the 'user_activity_2' feature in this competition, considering its time-series nature?\",\n",
       "   'answer': 'I’ve found that using Facebook Prophet for this kind of task can be quite effective Prophet is a robust tool for time-series forecasting and can handle trends and seasonality well'}],\n",
       " 1059: [{'question': 'What type of cross-validation strategy was employed in this Rohlik Orders Forecasting Challenge solution, and how did its results on the private leaderboard compare to the public leaderboard?',\n",
       "   'answer': \"A time-series based cross-validation strategy was implemented, with a custom approach preferred over scikit-learn's due to perceived limitations. The strategy involved using five previous 61-day periods as out-of-fold sets, aligning with the test dataset's duration. This method proved valuable, as it fostered trust in the experiment results and exhibited good correlation with the public leaderboard, ultimately leading to a significant improvement of 13 positions higher on the private leaderboard.\"}],\n",
       " 1060: [{'question': 'What leaderboard position did the discussed solution achieve in the private leaderboard?',\n",
       "   'answer': 'The discussed solution achieved 330th position in the private leaderboard.'}],\n",
       " 1061: [{'question': 'Why is logistic regression considered inappropriate for this specific stacking model, given the nature of the problem it aims to solve?',\n",
       "   'answer': 'Logistic regression is a classification problem, what we are trying to solve is a regression problem.'}],\n",
       " 1062: [{'question': 'What are some potential areas or approaches one could explore to potentially enhance the LB score in this competition?',\n",
       "   'answer': 'Some ways you may further improve the score:\\n  1. Implement a neural network model\\n  2. Implement a transformer model\\n  3. Understand the scores of each base model\\n  4. Understand the scores of each meta-model\\n  5. Research new papers on the problem\\n  6. Adjust the number of features used\\n  7. Explore feature engineering\\n  8. How about first predicting the missing columns?'}],\n",
       " 1063: [{'question': 'Why might the title of a discussion post get automatically modified after being published?',\n",
       "   'answer': 'The example provided mentions that the title of the topic received a \"false\" prefix after being published, implying that the platform might have implemented an automatic system for modifying titles in specific situations.'}],\n",
       " 1064: [{'question': 'What approaches did the team try to address the Munich warehouse outlier, and why did they ultimately not use a separate model for it?',\n",
       "   'answer': 'To address the Munich warehouse outlier, the team attempted training a separate model for Munich, excluding Munich from training other warehouses, and various combinations of these ideas. However, while some attempts showed improvements in CV or validation scores, the public LB score consistently worsened. Therefore, they decided against using a separate model for Munich.'}],\n",
       " 1065: [{'question': 'What strategy involving data manipulation yielded a score improvement of approximately 0.059 in the competition, and what is the underlying rationale for its effectiveness?',\n",
       "   'answer': 'A technique termed \"Smart Duplicating\" resulted in a 0.059 score improvement. This method involves duplicating the order data from the year 2023 and joining it with the training data, aligning by day of the year and day of the week. Additionally, Black Friday data is matched accordingly.  The rationale behind this approach is that it accounts for the yearly increase in orders by calculating the delta for each warehouse.  The effectiveness is attributed to the limitations in using data to predict daily order variations, such as weather or past orders, leaving weekends and holidays as the primary predictable factors which exhibit yearly similarity.  While holiday shifts between days of the week might occur from 2023 to 2024, the model won\\'t capture this variance due to the lack of corresponding training data.'}],\n",
       " 1066: [{'question': 'What can be the reason for submission failure if the code logic for predictions seems correct?',\n",
       "   'answer': \"The submission file might have incorrect column names. Ensure that the column names in your submission file match exactly with the expected column names (e.g., 'id', 'predict').\"}],\n",
       " 1067: [{'question': 'What is the effect of adjusting predictions specifically around the dates identified as potentially significant in the dataset?',\n",
       "   'answer': 'Adjusting predictions near the dates identified as potentially significant in the dataset has been observed to have an effect on the Leaderboard score.'}],\n",
       " 1068: [{'question': 'What methods can be used to handle missing values in weather-related features like snow and precipitation in time series data?',\n",
       "   'answer': 'One approach is to use the mode of the snow and precipitation, grouped by warehouse, year, month, and weekday, to fill in the missing values. Another observation is that many missing values might occur when the warehouse is not operational, while others could be attributed to missed recordings.'}],\n",
       " 1069: [{'question': 'What is the potential benefit of ensembling models with different random seeds?',\n",
       "   'answer': 'Ensembling models with different random seeds can reduce the variance in the predictions, leading to a more stable and potentially higher-scoring submission.'}],\n",
       " 1070: [{'question': 'What are some potential strategies for addressing the issue of public leaderboard overfitting in Kaggle competitions?',\n",
       "   'answer': 'The author suggests using a sample size of the training set on the Public Leaderboard to penalize any attempts at exploiting leakage. This would encourage participants to focus on building models that generalize well, rather than merely performing well on the Public Leaderboard.'}],\n",
       " 1071: [{'question': 'What factors might contribute to the higher order volume on Fridays for Rohlik?',\n",
       "   'answer': 'The reason for the higher order volume on Fridays is likely due to people ordering for the weekend. This pattern might also apply to public holidays, with people ordering more frequently.'}],\n",
       " 1072: [{'question': 'Why does a lower score indicate a better submission in this competition?',\n",
       "   'answer': 'A lower score indicates a better submission because it means the relative error between your forecasts and the actual values is smaller. This results in a lower MAPE (Mean Absolute Percentage Error), which signifies more accurate predictions.'}],\n",
       " 1073: [{'question': 'What are the pros and cons of using `GroupKFold` for time series forecasting, especially considering the potential for data leakage?'}],\n",
       " 1074: [{'question': 'How might a significant change in the public leaderboard be caused by the random seed used for training?',\n",
       "   'answer': \"If the public leaderboard scores are sensitive to the random seed used in training, it's likely that there will be a shakeup in the rankings when the private leaderboard is revealed.\"}],\n",
       " 1075: [{'question': 'What are the reasons for missing dates in the warehouse series data?',\n",
       "   'answer': 'The missing dates indicate that the warehouse was closed on those days, mostly due to public holidays and Sundays in Germany.'}],\n",
       " 1076: [{'question': 'What are some ways to deal with features present in the training set but absent in the test set, especially when these features relate to events like shutdowns and limitations?',\n",
       "   'answer': \"The events are rare and don't seem to significantly impact order volume, so they can likely be dropped.  Alternatively, you could try using weekly or monthly averages, but external data is not permitted.\"}],\n",
       " 1077: [{'question': 'What are the potential benefits and drawbacks of using time-based cross-validation in a competition like this one?',\n",
       "   'answer': \"I don't know if I would go as far as to say that time-based cross-validation does not work in this competition in general. Just that it did not work for me as well as other approaches. In general I think the benefit with time-based cross-validation is that you don't get a too optimistic cv-result due to leakage, but I'm not that sure that it will generalize better than normal cross-validation on new unseen data.\"}],\n",
       " 1078: [{'question': 'What are the main reasons for missing time series data in the test data?',\n",
       "   'answer': \"The missing data is due to national holidays and warehouse closures, particularly for those in Frankfurt and Munich which don't open on Sundays.\"}],\n",
       " 1079: [{'question': 'What approach did you take to improve your ARIMA model for your final submission?',\n",
       "   'answer': \"For my final submission, I added exogenous variables based on the 'Warehouse Analysis' section, transforming the ARIMA models into ARIMAX.\"}],\n",
       " 1080: [{'question': 'What measures will be taken to ensure winning solutions are not simply overfitted to the leaderboard?',\n",
       "   'answer': \"The organizers will be double-checking the winning solutions to make sure they are not just a 'hack' to overfit to leaderboard.\"}],\n",
       " 1081: [{'question': 'What are the next steps for the competition winners?',\n",
       "   'answer': 'The competition host will be reaching out to the winners this/next week to go over next steps.'}],\n",
       " 1082: [{'question': 'What is the purpose of the `test_calendar` file, especially when its rows largely overlap with the `test` file?',\n",
       "   'answer': 'The `test_calendar` file contains information about holidays for certain warehouses. This information is not present in the `test` file for days with zero orders.'}],\n",
       " 1083: [{'question': 'Considering the limited size of the test data, what should be the focus of the participants in this competition? ',\n",
       "   'answer': 'For this competition, we should probably not care about the public LB. Also complex workflows and models are unlikely to work here.'}],\n",
       " 1084: [{'question': 'What is the most likely reason for the increasing trend in orders for each warehouse?',\n",
       "   'answer': 'The most likely reason for the increasing trend in orders for each warehouse is simple business growth.'}],\n",
       " 1085: [{'question': 'What is the relationship between the two datasets in the competition, `train` and `train_calendar`?',\n",
       "   'answer': 'The `train_calendar` dataset contains holiday information for various warehouses, which may not be present in the `train` dataset due to having zero orders on those days. The `train_calendar` provides dates that are not included in the `train` dataset.'}],\n",
       " 1086: [{'question': 'What day of the week consistently has the highest order volume in the Rohlik Orders Forecasting Challenge dataset?',\n",
       "   'answer': 'Friday has the highest order volume in the Rohlik Orders Forecasting Challenge dataset.'}],\n",
       " 1087: [{'question': 'What are the main factors affecting the prediction after the warehouse column?',\n",
       "   'answer': 'The main factors affecting the prediction after the warehouse column are Friday, Sunday, and Holiday.'}],\n",
       " 1088: [{'question': 'What other features might be relevant to incorporate into a model to capture pre- and post-holiday effects on consumer behavior?',\n",
       "   'answer': \"The user in the discussion post suggests adding features indicating the number of days before and after a holiday. They also suggest adding binary indicators for is_holiday, before_holiday, and after_holiday. Another user responded by highlighting the importance of Friday's order volume, suggesting that it could significantly influence model performance.\"}],\n",
       " 1089: [{'question': 'What is the correct final deadline date for the competition?',\n",
       "   'answer': 'The correct final deadline date for the competition is Aug 23, 2024.'}],\n",
       " 1090: [{'question': 'How can we account for the different data collection frequencies between the training and testing sets in this competition?',\n",
       "   'answer': 'We need to account for the different data collection frequencies between the training and testing sets, along with conflicts, COVID-19 outbreaks, and other crises that have occurred since 2020.'}],\n",
       " 1091: [{'question': 'In competitions with noisy and small datasets, how can the stability of a model be evaluated and improved, especially when comparing Catboost to other boosted trees like LGB?',\n",
       "   'answer': 'Each competition is different and a model should be analyzed apropos to the data and the CV score in the competition. Catboost usually performs well in compliment with other boosted trees but it cannot be generalized, especially with such small and noisy datasets.'}],\n",
       " 1092: [{'question': 'What are some of the challenges in predicting demand for the Munich warehouse?',\n",
       "   'answer': 'The Munich warehouse is newer compared to other warehouses and has a dramatic trend, making it difficult to predict due to sharp peaks and a similar path to Prague 2 and 3. The test period may be similar to those two warehouses.'}],\n",
       " 1093: [{'question': 'What are some of the key factors for achieving good results in sales prediction models, especially in competitions like Rohlik?',\n",
       "   'answer': 'Floating events as anomalies, user_activities and tricks with data drifts are the keys for a good models.'}],\n",
       " 1094: [{'question': 'What are the potential benefits of using large language models (LLMs) for time series forecasting?',\n",
       "   'answer': 'LLMs can be used for time series forecasting as suggested in the TimeLLM paper.'}],\n",
       " 1095: [{'question': \"How can features that are only present in the training data be used to improve the model's performance and robustness?\",\n",
       "   'answer': 'One way to leverage training-only columns is to train models to predict the values of those columns and use those predictions in the final model that predicts the target variable. Another approach is to use those columns to identify outliers and potentially remove or correct their influence on the target variable.'}],\n",
       " 1096: [{'question': 'What are some alternative plotting libraries that can be used to visualize predictions in a Kaggle competition?'}],\n",
       " 1097: [{'question': 'What are the potential limitations of using complex models like iTransformer on small datasets?',\n",
       "   'answer': 'The small training set might be slightly too limited for such complex models.'}],\n",
       " 1098: [{'question': \"What is the difference between user_Activity_1 and user_Activity_2 in this competition's dataset?\",\n",
       "   'answer': 'The discussion post describes that the range of values varies between user_Activity_1 and user_Activity_2, but the exact meaning of these features is unclear.'}],\n",
       " 1099: [{'question': 'What is the main issue with the size of the test data in this Kaggle competition?',\n",
       "   'answer': 'The test data is too small, which makes it difficult to accurately evaluate the performance of models and increases the likelihood of a lottery competition where randomness plays a significant role in determining the rankings.'}],\n",
       " 1100: [{'question': 'What are some possible reasons for a CSV file to be corrupt or result in tokenization errors when trying to import it into a Google Colab notebook?',\n",
       "   'answer': 'The file might be corrupt. Try re-downloading it, or try loading the other CSV files to see if the error persists.'}],\n",
       " 1101: [{'question': 'What are some ways to prevent or mitigate the issue of users submitting multiple times from different accounts to manipulate the leaderboard?',\n",
       "   'answer': 'The discussion highlights the use of identification as a potential solution to prevent multiple accounts from being used to manipulate the leaderboard. The author also mentions that some competitions allow for offline participation, which makes using multiple accounts to gain an advantage less appealing.'}],\n",
       " 1102: [{'question': 'What is the impact of school holidays on the time series data for Frankfurt and Munich?',\n",
       "   'answer': 'The discussion post mentions that school holidays are only present in the train dataset for Frankfurt and Munich, and only for the year 2023.  This suggests that school holidays may be a significant factor influencing the time series data for these cities during this period.'}],\n",
       " 1103: [{'question': 'What is the most common reason for avoiding external data in a competition?',\n",
       "   'answer': 'The most common reason for avoiding external data in a competition is to ensure fairness and prevent competitors from gaining an unfair advantage by using data that is not available to everyone.'}],\n",
       " 1104: [{'question': 'What are the common strategies for splitting data in this competition, and how do they impact the consistency between cross-validation (CV) and leaderboard (LB) scores?',\n",
       "   'answer': 'Many participants are using a variety of splitting strategies like time-based splitting, group kfold, and custom rolling window cross-validation. However, the consistency between CV and LB scores is often inconsistent. Some experience a large difference, while others observe a good correlation. This highlights the importance of a robust validation strategy in this competition due to the nature of the data and the potential for data leakage.'}],\n",
       " 1105: [{'question': 'Why is this competition a community competition instead of a regular one?',\n",
       "   'answer': 'This was an agreement with Kaggle based on the size of the competition.'}],\n",
       " 1106: [{'question': 'What are the factors that determine whether a simple or a complex model is better for forecasting?',\n",
       "   'answer': 'The complexity of the model should be determined by the size and complexity of the data, the desired level of accuracy, and the importance of explainability.  A simple model may be sufficient if the data is small and the goal is to achieve a basic level of accuracy.  A more complex model may be necessary to achieve higher accuracy or to account for complex relationships in the data. Explainability is also an important factor, as simple models are often easier to understand and interpret than complex models.'}],\n",
       " 1107: [{'question': 'What is the meaning of the mov_change column?',\n",
       "   'answer': '0.7 means there was a small minimum order value change. 1 means there was a larger change.'}],\n",
       " 1108: [{'question': 'What is the main reason why participants are concerned about a potential shake-up in the competition leaderboard?',\n",
       "   'answer': 'Participants are concerned about a potential shake-up because of the possibility that some competitors might be overfitting to the public leaderboard data, while others might be using more robust methods that are not reflected in the public leaderboard scores. This could lead to a significant change in the ranking when the private leaderboard scores are revealed.'}],\n",
       " 1109: [{'question': 'What are the potential benefits of incorporating uncertainty quantification into a demand forecasting model?',\n",
       "   'answer': \"Uncertainty quantification can help reduce the risk of following unreliable model recommendations and provide more transparency about the model's reliability.\"}],\n",
       " 1110: [{'question': 'Why are there more winter school holiday weeks assigned to the Prague_1 warehouse compared to other warehouses in Czech Republic, considering the size of the city and the common practice of families going skiing during that time?',\n",
       "   'answer': \"The 'winter school holidays' is a week-long spring break for school kids. Every 'district' is scheduled for a different week (some coincide, obviously). Prague is a big city, so it is divided into smaller 'districts'. If a warehouse covers more of them, there are more vacation weeks corresponding to it…\"}],\n",
       " 1111: [{'question': 'Is it allowed to use predictions as training data in an autoregressive model, where you predict a next day for each warehouse and use the predicted day for re-training, repeating until the end of the data?'}],\n",
       " 1112: [{'question': \"What causes the inconsistency in the 'holiday' and 'holiday_name' columns in the dataset, specifically when some holidays are marked as 0 and some non-holidays as 1?\",\n",
       "   'answer': \"The inconsistency arises from the Czech Republic's holiday system. While Friday and Monday are specifically public holidays, the days between them are also considered part of Easter holidays. Therefore, even though these days are not public holidays, they are still part of the Easter holiday period.\"}],\n",
       " 1113: [{'question': 'What were the key factors that contributed to achieving good scores in the competition?',\n",
       "   'answer': 'The key factors that contributed to achieving good scores were feature engineering, deleting strange data during the training phase, using 4 LightGBM to stabilize results, and post-processing predictions to manually correct Easter holiday data.'}],\n",
       " 1114: [{'question': 'What type of external data can be used to enhance the model without causing leakage?',\n",
       "   'answer': 'Calendar events is one dataset that could be augmented externally without risk of leakage.'}],\n",
       " 1115: [{'question': 'What is the purpose of using the \"margin\" value in the offline evaluation metric, and how does it affect the optimization process?',\n",
       "   'answer': \"The margin is used to ensure that the `oof` (cross-validation score) value is slightly lower than the `valid` (validation set score) due to potential data leakage in cross-validation. It's not directly relevant to the optuna optimization process, as the goal is to minimize the entire metric, not just the `oof` and `valid` values individually.\"}],\n",
       " 1116: [{'question': 'Was there a specific reason why Budapest_1 was the only warehouse with a latest date of 2024-03-14, while all other warehouses had a latest date of 2024-03-15?',\n",
       "   'answer': '2024-03-15 was a public holiday in Budapest - the warehouse was not open.'}]}"
      ]
     },
     "execution_count": 35,
     "metadata": {},
     "output_type": "execute_result"
    }
   ],
   "execution_count": 35
  },
  {
   "metadata": {
    "ExecuteTime": {
     "end_time": "2024-09-16T13:55:53.848447Z",
     "start_time": "2024-09-16T13:55:53.845029Z"
    }
   },
   "cell_type": "code",
   "source": [
    "final_results = []\n",
    "\n",
    "for doc_id, questions in results.items():\n",
    "    for qa_pair in questions:\n",
    "        if is_qa_pair_valid(qa_pair):\n",
    "            final_results.append((doc_id, qa_pair['question'], qa_pair['answer']))"
   ],
   "id": "5b882d5e2aa96761",
   "outputs": [],
   "execution_count": 36
  },
  {
   "metadata": {
    "ExecuteTime": {
     "end_time": "2024-09-16T13:55:54.679261Z",
     "start_time": "2024-09-16T13:55:54.673969Z"
    }
   },
   "cell_type": "code",
   "source": [
    "df_results = pd.DataFrame(final_results, columns=['doc_id', 'question', 'answer'])\n",
    "\n",
    "# drop duplicates, just in case\n",
    "df_results = df_results.drop_duplicates(subset=['question', 'answer'], keep='first').reset_index(drop=True)"
   ],
   "id": "4686b0f4abbd473f",
   "outputs": [],
   "execution_count": 37
  },
  {
   "metadata": {
    "ExecuteTime": {
     "end_time": "2024-09-16T13:55:56.318288Z",
     "start_time": "2024-09-16T13:55:56.311714Z"
    }
   },
   "cell_type": "code",
   "source": "df_results.to_csv(f'../data/evaluation/{competition_slug}-ground-truth.csv', index=False)",
   "id": "56429de638b7915",
   "outputs": [],
   "execution_count": 38
  },
  {
   "metadata": {
    "ExecuteTime": {
     "end_time": "2024-09-16T13:55:56.976405Z",
     "start_time": "2024-09-16T13:55:56.971862Z"
    }
   },
   "cell_type": "code",
   "source": "df_results.head(10)",
   "id": "c0c1f62dea96ed5",
   "outputs": [
    {
     "data": {
      "text/plain": [
       "   doc_id                                           question  \\\n",
       "0       0               What is the name of the competition?   \n",
       "1       1  What is the main task in the Rohlik Orders For...   \n",
       "2       2  What is the main focus of the Kaggle competition?   \n",
       "3       2      In which countries does Rohlik Group operate?   \n",
       "4       2                   When does the competition close?   \n",
       "5       3  What is the main reason for needing accurate o...   \n",
       "6       3  What is the expected impact of optimizing fore...   \n",
       "7       3  How will participant contributions directly af...   \n",
       "8       4  What metric is used to evaluate submissions in...   \n",
       "9       5  What is the name of the column that contains t...   \n",
       "\n",
       "                                              answer  \n",
       "0                Rohlik Orders Forecasting Challenge  \n",
       "1     Use historical data to predict customer orders  \n",
       "2  Predicting the number of grocery deliveries at...  \n",
       "3  Czech Republic, Germany, Austria, Hungary, and...  \n",
       "4                                    August 23, 2024  \n",
       "5  Accurate order forecasts are crucial for plann...  \n",
       "6  By optimizing forecasts, we can minimize waste...  \n",
       "7  Your participation in this challenge will dire...  \n",
       "8                     Mean Absolute Percentage Error  \n",
       "9                                             ORDERS  "
      ],
      "text/html": [
       "<div>\n",
       "<style scoped>\n",
       "    .dataframe tbody tr th:only-of-type {\n",
       "        vertical-align: middle;\n",
       "    }\n",
       "\n",
       "    .dataframe tbody tr th {\n",
       "        vertical-align: top;\n",
       "    }\n",
       "\n",
       "    .dataframe thead th {\n",
       "        text-align: right;\n",
       "    }\n",
       "</style>\n",
       "<table border=\"1\" class=\"dataframe\">\n",
       "  <thead>\n",
       "    <tr style=\"text-align: right;\">\n",
       "      <th></th>\n",
       "      <th>doc_id</th>\n",
       "      <th>question</th>\n",
       "      <th>answer</th>\n",
       "    </tr>\n",
       "  </thead>\n",
       "  <tbody>\n",
       "    <tr>\n",
       "      <th>0</th>\n",
       "      <td>0</td>\n",
       "      <td>What is the name of the competition?</td>\n",
       "      <td>Rohlik Orders Forecasting Challenge</td>\n",
       "    </tr>\n",
       "    <tr>\n",
       "      <th>1</th>\n",
       "      <td>1</td>\n",
       "      <td>What is the main task in the Rohlik Orders For...</td>\n",
       "      <td>Use historical data to predict customer orders</td>\n",
       "    </tr>\n",
       "    <tr>\n",
       "      <th>2</th>\n",
       "      <td>2</td>\n",
       "      <td>What is the main focus of the Kaggle competition?</td>\n",
       "      <td>Predicting the number of grocery deliveries at...</td>\n",
       "    </tr>\n",
       "    <tr>\n",
       "      <th>3</th>\n",
       "      <td>2</td>\n",
       "      <td>In which countries does Rohlik Group operate?</td>\n",
       "      <td>Czech Republic, Germany, Austria, Hungary, and...</td>\n",
       "    </tr>\n",
       "    <tr>\n",
       "      <th>4</th>\n",
       "      <td>2</td>\n",
       "      <td>When does the competition close?</td>\n",
       "      <td>August 23, 2024</td>\n",
       "    </tr>\n",
       "    <tr>\n",
       "      <th>5</th>\n",
       "      <td>3</td>\n",
       "      <td>What is the main reason for needing accurate o...</td>\n",
       "      <td>Accurate order forecasts are crucial for plann...</td>\n",
       "    </tr>\n",
       "    <tr>\n",
       "      <th>6</th>\n",
       "      <td>3</td>\n",
       "      <td>What is the expected impact of optimizing fore...</td>\n",
       "      <td>By optimizing forecasts, we can minimize waste...</td>\n",
       "    </tr>\n",
       "    <tr>\n",
       "      <th>7</th>\n",
       "      <td>3</td>\n",
       "      <td>How will participant contributions directly af...</td>\n",
       "      <td>Your participation in this challenge will dire...</td>\n",
       "    </tr>\n",
       "    <tr>\n",
       "      <th>8</th>\n",
       "      <td>4</td>\n",
       "      <td>What metric is used to evaluate submissions in...</td>\n",
       "      <td>Mean Absolute Percentage Error</td>\n",
       "    </tr>\n",
       "    <tr>\n",
       "      <th>9</th>\n",
       "      <td>5</td>\n",
       "      <td>What is the name of the column that contains t...</td>\n",
       "      <td>ORDERS</td>\n",
       "    </tr>\n",
       "  </tbody>\n",
       "</table>\n",
       "</div>"
      ]
     },
     "execution_count": 39,
     "metadata": {},
     "output_type": "execute_result"
    }
   ],
   "execution_count": 39
  },
  {
   "metadata": {
    "ExecuteTime": {
     "end_time": "2024-09-16T13:55:57.784471Z",
     "start_time": "2024-09-16T13:55:57.779259Z"
    }
   },
   "cell_type": "code",
   "source": "df_results.tail(10)",
   "id": "1a2edcccaecb7eba",
   "outputs": [
    {
     "data": {
      "text/plain": [
       "     doc_id                                           question  \\\n",
       "105    1106  What are the factors that determine whether a ...   \n",
       "106    1107      What is the meaning of the mov_change column?   \n",
       "107    1108  What is the main reason why participants are c...   \n",
       "108    1109  What are the potential benefits of incorporati...   \n",
       "109    1110  Why are there more winter school holiday weeks...   \n",
       "110    1112  What causes the inconsistency in the 'holiday'...   \n",
       "111    1113  What were the key factors that contributed to ...   \n",
       "112    1114  What type of external data can be used to enha...   \n",
       "113    1115  What is the purpose of using the \"margin\" valu...   \n",
       "114    1116  Was there a specific reason why Budapest_1 was...   \n",
       "\n",
       "                                                answer  \n",
       "105  The complexity of the model should be determin...  \n",
       "106  0.7 means there was a small minimum order valu...  \n",
       "107  Participants are concerned about a potential s...  \n",
       "108  Uncertainty quantification can help reduce the...  \n",
       "109  The 'winter school holidays' is a week-long sp...  \n",
       "110  The inconsistency arises from the Czech Republ...  \n",
       "111  The key factors that contributed to achieving ...  \n",
       "112  Calendar events is one dataset that could be a...  \n",
       "113  The margin is used to ensure that the `oof` (c...  \n",
       "114  2024-03-15 was a public holiday in Budapest - ...  "
      ],
      "text/html": [
       "<div>\n",
       "<style scoped>\n",
       "    .dataframe tbody tr th:only-of-type {\n",
       "        vertical-align: middle;\n",
       "    }\n",
       "\n",
       "    .dataframe tbody tr th {\n",
       "        vertical-align: top;\n",
       "    }\n",
       "\n",
       "    .dataframe thead th {\n",
       "        text-align: right;\n",
       "    }\n",
       "</style>\n",
       "<table border=\"1\" class=\"dataframe\">\n",
       "  <thead>\n",
       "    <tr style=\"text-align: right;\">\n",
       "      <th></th>\n",
       "      <th>doc_id</th>\n",
       "      <th>question</th>\n",
       "      <th>answer</th>\n",
       "    </tr>\n",
       "  </thead>\n",
       "  <tbody>\n",
       "    <tr>\n",
       "      <th>105</th>\n",
       "      <td>1106</td>\n",
       "      <td>What are the factors that determine whether a ...</td>\n",
       "      <td>The complexity of the model should be determin...</td>\n",
       "    </tr>\n",
       "    <tr>\n",
       "      <th>106</th>\n",
       "      <td>1107</td>\n",
       "      <td>What is the meaning of the mov_change column?</td>\n",
       "      <td>0.7 means there was a small minimum order valu...</td>\n",
       "    </tr>\n",
       "    <tr>\n",
       "      <th>107</th>\n",
       "      <td>1108</td>\n",
       "      <td>What is the main reason why participants are c...</td>\n",
       "      <td>Participants are concerned about a potential s...</td>\n",
       "    </tr>\n",
       "    <tr>\n",
       "      <th>108</th>\n",
       "      <td>1109</td>\n",
       "      <td>What are the potential benefits of incorporati...</td>\n",
       "      <td>Uncertainty quantification can help reduce the...</td>\n",
       "    </tr>\n",
       "    <tr>\n",
       "      <th>109</th>\n",
       "      <td>1110</td>\n",
       "      <td>Why are there more winter school holiday weeks...</td>\n",
       "      <td>The 'winter school holidays' is a week-long sp...</td>\n",
       "    </tr>\n",
       "    <tr>\n",
       "      <th>110</th>\n",
       "      <td>1112</td>\n",
       "      <td>What causes the inconsistency in the 'holiday'...</td>\n",
       "      <td>The inconsistency arises from the Czech Republ...</td>\n",
       "    </tr>\n",
       "    <tr>\n",
       "      <th>111</th>\n",
       "      <td>1113</td>\n",
       "      <td>What were the key factors that contributed to ...</td>\n",
       "      <td>The key factors that contributed to achieving ...</td>\n",
       "    </tr>\n",
       "    <tr>\n",
       "      <th>112</th>\n",
       "      <td>1114</td>\n",
       "      <td>What type of external data can be used to enha...</td>\n",
       "      <td>Calendar events is one dataset that could be a...</td>\n",
       "    </tr>\n",
       "    <tr>\n",
       "      <th>113</th>\n",
       "      <td>1115</td>\n",
       "      <td>What is the purpose of using the \"margin\" valu...</td>\n",
       "      <td>The margin is used to ensure that the `oof` (c...</td>\n",
       "    </tr>\n",
       "    <tr>\n",
       "      <th>114</th>\n",
       "      <td>1116</td>\n",
       "      <td>Was there a specific reason why Budapest_1 was...</td>\n",
       "      <td>2024-03-15 was a public holiday in Budapest - ...</td>\n",
       "    </tr>\n",
       "  </tbody>\n",
       "</table>\n",
       "</div>"
      ]
     },
     "execution_count": 40,
     "metadata": {},
     "output_type": "execute_result"
    }
   ],
   "execution_count": 40
  },
  {
   "metadata": {},
   "cell_type": "code",
   "outputs": [],
   "execution_count": null,
   "source": "",
   "id": "82d99d50759efa35"
  }
 ],
 "metadata": {
  "kernelspec": {
   "display_name": "Python 3 (ipykernel)",
   "language": "python",
   "name": "python3"
  },
  "language_info": {
   "codemirror_mode": {
    "name": "ipython",
    "version": 3
   },
   "file_extension": ".py",
   "mimetype": "text/x-python",
   "name": "python",
   "nbconvert_exporter": "python",
   "pygments_lexer": "ipython3",
   "version": "3.11.5"
  }
 },
 "nbformat": 4,
 "nbformat_minor": 5
}
