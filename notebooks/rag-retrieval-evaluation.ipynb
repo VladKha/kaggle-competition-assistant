{
 "cells": [
  {
   "metadata": {
    "ExecuteTime": {
     "end_time": "2024-09-16T13:57:26.381834Z",
     "start_time": "2024-09-16T13:57:23.900924Z"
    }
   },
   "cell_type": "code",
   "source": [
    "import json\n",
    "import random\n",
    "import logging\n",
    "import pandas as pd\n",
    "from tqdm.auto import tqdm\n",
    "\n",
    "from dotenv import load_dotenv\n",
    "load_dotenv('../.env')\n",
    "\n",
    "from kaggle_competition_assistant.utils import create_documents\n",
    "from kaggle_competition_assistant.index.opensearch_index import OpenSearchIndex\n",
    "\n",
    "# Set the maximum number of rows to display\n",
    "pd.set_option('display.max_rows', 100)\n",
    "\n",
    "logging.basicConfig(level=logging.WARNING, format='%(asctime)s - %(name)s - %(levelname)s - %(message)s')"
   ],
   "id": "36f05398bef5bd60",
   "outputs": [],
   "execution_count": 1
  },
  {
   "metadata": {},
   "cell_type": "markdown",
   "source": "## Ingestion",
   "id": "2c437e32c037621"
  },
  {
   "metadata": {
    "ExecuteTime": {
     "end_time": "2024-09-16T13:57:26.387511Z",
     "start_time": "2024-09-16T13:57:26.385256Z"
    }
   },
   "cell_type": "code",
   "source": [
    "def create_index(competition_slug):\n",
    "    competition_data_path = '../data/' + competition_slug\n",
    "    documents = create_documents(competition_slug, competition_data_path)\n",
    "    index = OpenSearchIndex(text_fields=['source', 'section', 'text'], keyword_fields=['url', 'id'])\n",
    "    index.index(documents)\n",
    "    return index"
   ],
   "id": "b061228866b147cd",
   "outputs": [],
   "execution_count": 2
  },
  {
   "metadata": {
    "ExecuteTime": {
     "end_time": "2024-09-16T13:57:26.467374Z",
     "start_time": "2024-09-16T13:57:26.465754Z"
    }
   },
   "cell_type": "code",
   "source": "competition_slug = 'llm-zoomcamp-2024-competition'",
   "id": "c26aeb0fc74fe7e5",
   "outputs": [],
   "execution_count": 3
  },
  {
   "metadata": {
    "ExecuteTime": {
     "end_time": "2024-09-16T13:57:35.420432Z",
     "start_time": "2024-09-16T13:57:26.474833Z"
    }
   },
   "cell_type": "code",
   "source": "index = create_index(competition_slug)",
   "id": "8bdb9f3f2c36ee00",
   "outputs": [
    {
     "name": "stderr",
     "output_type": "stream",
     "text": [
      "/Users/vladkha/Desktop/Workspace/Coding/kaggle-competition-copilot/.venv/lib/python3.11/site-packages/transformers/tokenization_utils_base.py:1601: FutureWarning: `clean_up_tokenization_spaces` was not set. It will be set to `True` by default. This behavior will be depracted in transformers v4.45, and will be then set to `False` by default. For more details check this issue: https://github.com/huggingface/transformers/issues/31884\n",
      "  warnings.warn(\n"
     ]
    },
    {
     "data": {
      "text/plain": [
       "Creating document embeddings:   0%|          | 0/91 [00:00<?, ?it/s]"
      ],
      "application/vnd.jupyter.widget-view+json": {
       "version_major": 2,
       "version_minor": 0,
       "model_id": "ec1c5bd66b7443b2bb8d3b6db5bec366"
      }
     },
     "metadata": {},
     "output_type": "display_data"
    }
   ],
   "execution_count": 4
  },
  {
   "metadata": {},
   "cell_type": "markdown",
   "source": "## Retrieval evaluation",
   "id": "fe88e413c14f3202"
  },
  {
   "metadata": {
    "ExecuteTime": {
     "end_time": "2024-09-16T13:57:35.442613Z",
     "start_time": "2024-09-16T13:57:35.428285Z"
    }
   },
   "cell_type": "code",
   "source": [
    "df_question = pd.read_csv(f'../data/evaluation/{competition_slug}-ground-truth.csv')\n",
    "\n",
    "ground_truth = df_question.to_dict(orient='records')\n",
    "\n",
    "df_question.sample(5)"
   ],
   "id": "e0de96035522dc86",
   "outputs": [
    {
     "data": {
      "text/plain": [
       "    doc_id                                           question  \\\n",
       "11       7  What is the expected format of the submission ...   \n",
       "29      20        How many files are provided in the dataset?   \n",
       "16       9                       Who is the competition host?   \n",
       "6        3  What languages are the mathematical problems p...   \n",
       "39      29          What is the score of ArturG's submission?   \n",
       "\n",
       "                                               answer  \n",
       "11  The submission file should have two columns: p...  \n",
       "29                                                  7  \n",
       "16                                              ololo  \n",
       "6                                 English and Russian  \n",
       "39                                            0.93750  "
      ],
      "text/html": [
       "<div>\n",
       "<style scoped>\n",
       "    .dataframe tbody tr th:only-of-type {\n",
       "        vertical-align: middle;\n",
       "    }\n",
       "\n",
       "    .dataframe tbody tr th {\n",
       "        vertical-align: top;\n",
       "    }\n",
       "\n",
       "    .dataframe thead th {\n",
       "        text-align: right;\n",
       "    }\n",
       "</style>\n",
       "<table border=\"1\" class=\"dataframe\">\n",
       "  <thead>\n",
       "    <tr style=\"text-align: right;\">\n",
       "      <th></th>\n",
       "      <th>doc_id</th>\n",
       "      <th>question</th>\n",
       "      <th>answer</th>\n",
       "    </tr>\n",
       "  </thead>\n",
       "  <tbody>\n",
       "    <tr>\n",
       "      <th>11</th>\n",
       "      <td>7</td>\n",
       "      <td>What is the expected format of the submission ...</td>\n",
       "      <td>The submission file should have two columns: p...</td>\n",
       "    </tr>\n",
       "    <tr>\n",
       "      <th>29</th>\n",
       "      <td>20</td>\n",
       "      <td>How many files are provided in the dataset?</td>\n",
       "      <td>7</td>\n",
       "    </tr>\n",
       "    <tr>\n",
       "      <th>16</th>\n",
       "      <td>9</td>\n",
       "      <td>Who is the competition host?</td>\n",
       "      <td>ololo</td>\n",
       "    </tr>\n",
       "    <tr>\n",
       "      <th>6</th>\n",
       "      <td>3</td>\n",
       "      <td>What languages are the mathematical problems p...</td>\n",
       "      <td>English and Russian</td>\n",
       "    </tr>\n",
       "    <tr>\n",
       "      <th>39</th>\n",
       "      <td>29</td>\n",
       "      <td>What is the score of ArturG's submission?</td>\n",
       "      <td>0.93750</td>\n",
       "    </tr>\n",
       "  </tbody>\n",
       "</table>\n",
       "</div>"
      ]
     },
     "execution_count": 5,
     "metadata": {},
     "output_type": "execute_result"
    }
   ],
   "execution_count": 5
  },
  {
   "metadata": {
    "ExecuteTime": {
     "end_time": "2024-09-16T13:57:35.478859Z",
     "start_time": "2024-09-16T13:57:35.476238Z"
    }
   },
   "cell_type": "code",
   "source": [
    "def hit_rate(relevance_total):\n",
    "    cnt = 0\n",
    "\n",
    "    for line in relevance_total:\n",
    "        if True in line:\n",
    "            cnt = cnt + 1\n",
    "\n",
    "    return cnt / len(relevance_total)\n",
    "\n",
    "def mrr(relevance_total):\n",
    "    total_score = 0.0\n",
    "\n",
    "    for line in relevance_total:\n",
    "        for rank in range(len(line)):\n",
    "            if line[rank] is True:\n",
    "                total_score = total_score + 1 / (rank + 1)\n",
    "\n",
    "    return total_score / len(relevance_total)"
   ],
   "id": "a9628105f149033b",
   "outputs": [],
   "execution_count": 6
  },
  {
   "metadata": {
    "ExecuteTime": {
     "end_time": "2024-09-16T13:57:35.523084Z",
     "start_time": "2024-09-16T13:57:35.520118Z"
    }
   },
   "cell_type": "code",
   "source": [
    "def evaluate(ground_truth, search_function, progress_bar=True):\n",
    "    relevance_total = []\n",
    "\n",
    "    if progress_bar:\n",
    "        ground_truth = tqdm(ground_truth)\n",
    "        \n",
    "    for q in ground_truth:\n",
    "        doc_id = q['doc_id']\n",
    "        results = search_function(q)\n",
    "        relevance = [d['id'] == doc_id for d in results]\n",
    "        relevance_total.append(relevance)\n",
    "\n",
    "    return {\n",
    "        'hit_rate': hit_rate(relevance_total),\n",
    "        'mrr': mrr(relevance_total),\n",
    "    }"
   ],
   "id": "79550aadf25793d",
   "outputs": [],
   "execution_count": 7
  },
  {
   "metadata": {
    "ExecuteTime": {
     "end_time": "2024-09-16T13:57:35.554622Z",
     "start_time": "2024-09-16T13:57:35.552330Z"
    }
   },
   "cell_type": "code",
   "source": "boost_dict = {'source': 1.0, 'section': 10.0, 'text': 2.0}",
   "id": "d0a2a9a46a987715",
   "outputs": [],
   "execution_count": 8
  },
  {
   "metadata": {
    "ExecuteTime": {
     "end_time": "2024-09-16T13:57:54.941726Z",
     "start_time": "2024-09-16T13:57:35.560684Z"
    }
   },
   "cell_type": "code",
   "source": [
    "results = []\n",
    "\n",
    "for search_type in ['lexical', 'semantic', 'hybrid_rff']:\n",
    "    for num_results in [5, 10]:\n",
    "        for boost_dict in [{'source': 1.0, 'section': 10.0, 'text': 2.0}, {}]:\n",
    "            if search_type == 'semantic' and boost_dict:\n",
    "                continue\n",
    "                \n",
    "            evaluation_results = evaluate(ground_truth, \n",
    "                                          lambda q: index.search(q['question'], search_type=search_type, boost_dict=boost_dict, num_results=num_results))\n",
    "\n",
    "            results.append({\n",
    "                'search_type': search_type,\n",
    "                'num_results': num_results,\n",
    "                'boost_dict': json.dumps(boost_dict),\n",
    "                'hit_rate': evaluation_results['hit_rate'],\n",
    "                'mrr': evaluation_results['mrr'],\n",
    "            })\n",
    "\n",
    "results = pd.DataFrame(results, columns=['search_type', 'num_results', 'boost_dict', 'hit_rate', 'mrr'])\n",
    "results.sort_values(by='mrr', ascending=True)"
   ],
   "id": "4c44afb004f48663",
   "outputs": [
    {
     "data": {
      "text/plain": [
       "  0%|          | 0/45 [00:00<?, ?it/s]"
      ],
      "application/vnd.jupyter.widget-view+json": {
       "version_major": 2,
       "version_minor": 0,
       "model_id": "d674272f691a4e8db433301e8ed8d08b"
      }
     },
     "metadata": {},
     "output_type": "display_data"
    },
    {
     "data": {
      "text/plain": [
       "  0%|          | 0/45 [00:00<?, ?it/s]"
      ],
      "application/vnd.jupyter.widget-view+json": {
       "version_major": 2,
       "version_minor": 0,
       "model_id": "b818d5d44e1e4b8b87ef52494f01d759"
      }
     },
     "metadata": {},
     "output_type": "display_data"
    },
    {
     "data": {
      "text/plain": [
       "  0%|          | 0/45 [00:00<?, ?it/s]"
      ],
      "application/vnd.jupyter.widget-view+json": {
       "version_major": 2,
       "version_minor": 0,
       "model_id": "1f257ea00350478ba2f89f6f580a94fa"
      }
     },
     "metadata": {},
     "output_type": "display_data"
    },
    {
     "data": {
      "text/plain": [
       "  0%|          | 0/45 [00:00<?, ?it/s]"
      ],
      "application/vnd.jupyter.widget-view+json": {
       "version_major": 2,
       "version_minor": 0,
       "model_id": "8c8a108b07ce48b899e7030687f15c9f"
      }
     },
     "metadata": {},
     "output_type": "display_data"
    },
    {
     "data": {
      "text/plain": [
       "  0%|          | 0/45 [00:00<?, ?it/s]"
      ],
      "application/vnd.jupyter.widget-view+json": {
       "version_major": 2,
       "version_minor": 0,
       "model_id": "090c648966b340ea84a7b4494477c356"
      }
     },
     "metadata": {},
     "output_type": "display_data"
    },
    {
     "data": {
      "text/plain": [
       "  0%|          | 0/45 [00:00<?, ?it/s]"
      ],
      "application/vnd.jupyter.widget-view+json": {
       "version_major": 2,
       "version_minor": 0,
       "model_id": "79fdc480d2bf45ad8b36de9f4e5f4e24"
      }
     },
     "metadata": {},
     "output_type": "display_data"
    },
    {
     "data": {
      "text/plain": [
       "  0%|          | 0/45 [00:00<?, ?it/s]"
      ],
      "application/vnd.jupyter.widget-view+json": {
       "version_major": 2,
       "version_minor": 0,
       "model_id": "67274e3ccc84482db11ba0f1e3a72cd4"
      }
     },
     "metadata": {},
     "output_type": "display_data"
    },
    {
     "data": {
      "text/plain": [
       "  0%|          | 0/45 [00:00<?, ?it/s]"
      ],
      "application/vnd.jupyter.widget-view+json": {
       "version_major": 2,
       "version_minor": 0,
       "model_id": "fda900f2308b4ad7b63cd78fa89f00e6"
      }
     },
     "metadata": {},
     "output_type": "display_data"
    },
    {
     "data": {
      "text/plain": [
       "  0%|          | 0/45 [00:00<?, ?it/s]"
      ],
      "application/vnd.jupyter.widget-view+json": {
       "version_major": 2,
       "version_minor": 0,
       "model_id": "332faf04acd84c40b6e8428cb51322a4"
      }
     },
     "metadata": {},
     "output_type": "display_data"
    },
    {
     "data": {
      "text/plain": [
       "  0%|          | 0/45 [00:00<?, ?it/s]"
      ],
      "application/vnd.jupyter.widget-view+json": {
       "version_major": 2,
       "version_minor": 0,
       "model_id": "97ce613f87e4492ab8c1368ab6ed0e6d"
      }
     },
     "metadata": {},
     "output_type": "display_data"
    },
    {
     "data": {
      "text/plain": [
       "  search_type  num_results                                     boost_dict  \\\n",
       "1     lexical            5                                             {}   \n",
       "3     lexical           10                                             {}   \n",
       "0     lexical            5  {\"source\": 1.0, \"section\": 10.0, \"text\": 2.0}   \n",
       "2     lexical           10  {\"source\": 1.0, \"section\": 10.0, \"text\": 2.0}   \n",
       "7  hybrid_rff            5                                             {}   \n",
       "9  hybrid_rff           10                                             {}   \n",
       "6  hybrid_rff            5  {\"source\": 1.0, \"section\": 10.0, \"text\": 2.0}   \n",
       "4    semantic            5                                             {}   \n",
       "5    semantic           10                                             {}   \n",
       "8  hybrid_rff           10  {\"source\": 1.0, \"section\": 10.0, \"text\": 2.0}   \n",
       "\n",
       "   hit_rate       mrr  \n",
       "1  0.600000  0.450000  \n",
       "3  0.688889  0.459444  \n",
       "0  0.666667  0.545185  \n",
       "2  0.800000  0.562681  \n",
       "7  0.800000  0.584815  \n",
       "9  0.933333  0.628113  \n",
       "6  0.822222  0.660000  \n",
       "4  0.844444  0.667037  \n",
       "5  0.933333  0.679691  \n",
       "8  0.911111  0.691878  "
      ],
      "text/html": [
       "<div>\n",
       "<style scoped>\n",
       "    .dataframe tbody tr th:only-of-type {\n",
       "        vertical-align: middle;\n",
       "    }\n",
       "\n",
       "    .dataframe tbody tr th {\n",
       "        vertical-align: top;\n",
       "    }\n",
       "\n",
       "    .dataframe thead th {\n",
       "        text-align: right;\n",
       "    }\n",
       "</style>\n",
       "<table border=\"1\" class=\"dataframe\">\n",
       "  <thead>\n",
       "    <tr style=\"text-align: right;\">\n",
       "      <th></th>\n",
       "      <th>search_type</th>\n",
       "      <th>num_results</th>\n",
       "      <th>boost_dict</th>\n",
       "      <th>hit_rate</th>\n",
       "      <th>mrr</th>\n",
       "    </tr>\n",
       "  </thead>\n",
       "  <tbody>\n",
       "    <tr>\n",
       "      <th>1</th>\n",
       "      <td>lexical</td>\n",
       "      <td>5</td>\n",
       "      <td>{}</td>\n",
       "      <td>0.600000</td>\n",
       "      <td>0.450000</td>\n",
       "    </tr>\n",
       "    <tr>\n",
       "      <th>3</th>\n",
       "      <td>lexical</td>\n",
       "      <td>10</td>\n",
       "      <td>{}</td>\n",
       "      <td>0.688889</td>\n",
       "      <td>0.459444</td>\n",
       "    </tr>\n",
       "    <tr>\n",
       "      <th>0</th>\n",
       "      <td>lexical</td>\n",
       "      <td>5</td>\n",
       "      <td>{\"source\": 1.0, \"section\": 10.0, \"text\": 2.0}</td>\n",
       "      <td>0.666667</td>\n",
       "      <td>0.545185</td>\n",
       "    </tr>\n",
       "    <tr>\n",
       "      <th>2</th>\n",
       "      <td>lexical</td>\n",
       "      <td>10</td>\n",
       "      <td>{\"source\": 1.0, \"section\": 10.0, \"text\": 2.0}</td>\n",
       "      <td>0.800000</td>\n",
       "      <td>0.562681</td>\n",
       "    </tr>\n",
       "    <tr>\n",
       "      <th>7</th>\n",
       "      <td>hybrid_rff</td>\n",
       "      <td>5</td>\n",
       "      <td>{}</td>\n",
       "      <td>0.800000</td>\n",
       "      <td>0.584815</td>\n",
       "    </tr>\n",
       "    <tr>\n",
       "      <th>9</th>\n",
       "      <td>hybrid_rff</td>\n",
       "      <td>10</td>\n",
       "      <td>{}</td>\n",
       "      <td>0.933333</td>\n",
       "      <td>0.628113</td>\n",
       "    </tr>\n",
       "    <tr>\n",
       "      <th>6</th>\n",
       "      <td>hybrid_rff</td>\n",
       "      <td>5</td>\n",
       "      <td>{\"source\": 1.0, \"section\": 10.0, \"text\": 2.0}</td>\n",
       "      <td>0.822222</td>\n",
       "      <td>0.660000</td>\n",
       "    </tr>\n",
       "    <tr>\n",
       "      <th>4</th>\n",
       "      <td>semantic</td>\n",
       "      <td>5</td>\n",
       "      <td>{}</td>\n",
       "      <td>0.844444</td>\n",
       "      <td>0.667037</td>\n",
       "    </tr>\n",
       "    <tr>\n",
       "      <th>5</th>\n",
       "      <td>semantic</td>\n",
       "      <td>10</td>\n",
       "      <td>{}</td>\n",
       "      <td>0.933333</td>\n",
       "      <td>0.679691</td>\n",
       "    </tr>\n",
       "    <tr>\n",
       "      <th>8</th>\n",
       "      <td>hybrid_rff</td>\n",
       "      <td>10</td>\n",
       "      <td>{\"source\": 1.0, \"section\": 10.0, \"text\": 2.0}</td>\n",
       "      <td>0.911111</td>\n",
       "      <td>0.691878</td>\n",
       "    </tr>\n",
       "  </tbody>\n",
       "</table>\n",
       "</div>"
      ]
     },
     "execution_count": 9,
     "metadata": {},
     "output_type": "execute_result"
    }
   ],
   "execution_count": 9
  },
  {
   "metadata": {},
   "cell_type": "markdown",
   "source": [
    "After light-weight search configs tuning:\n",
    "- by MRR: hybrid search + rff reranking turned out to be the best\n",
    "- by hit rate: semantic search is the best"
   ],
   "id": "6edfcbf3b15bf8f5"
  },
  {
   "metadata": {},
   "cell_type": "markdown",
   "source": "### Search hyperparameters tuning",
   "id": "ea9294983aab7ccc"
  },
  {
   "metadata": {
    "ExecuteTime": {
     "end_time": "2024-09-16T13:57:54.975068Z",
     "start_time": "2024-09-16T13:57:54.971924Z"
    }
   },
   "cell_type": "code",
   "source": [
    "# select a validation set for tuning\n",
    "val_size = len(df_question) // 2\n",
    "df_validation = df_question.sample(n=val_size, random_state=42)\n",
    "\n",
    "gt_val = df_validation.to_dict(orient='records')"
   ],
   "id": "880505155023f314",
   "outputs": [],
   "execution_count": 10
  },
  {
   "metadata": {
    "ExecuteTime": {
     "end_time": "2024-09-16T13:57:54.993578Z",
     "start_time": "2024-09-16T13:57:54.990358Z"
    }
   },
   "cell_type": "code",
   "source": [
    "def simple_random_search_optimization(param_ranges, objective_function, n_iterations=10):\n",
    "    best_params = None\n",
    "    best_score = float('-inf')\n",
    "\n",
    "    for _ in tqdm(range(n_iterations), total=n_iterations, desc='Random search iterations'):\n",
    "        # Generate random parameters\n",
    "        current_params = {}\n",
    "        for param, (min_val, max_val) in param_ranges.items():\n",
    "            if isinstance(min_val, int) and isinstance(max_val, int):\n",
    "                current_params[param] = random.randint(min_val, max_val)\n",
    "            else:\n",
    "                current_params[param] = random.uniform(min_val, max_val)\n",
    "        \n",
    "        # Evaluate the objective function\n",
    "        current_score = objective_function(current_params)\n",
    "        \n",
    "        # Update best if current is better\n",
    "        if current_score > best_score:\n",
    "            best_score = current_score\n",
    "            best_params = current_params\n",
    "    \n",
    "    return best_params, best_score"
   ],
   "id": "d123d139c8a147ba",
   "outputs": [],
   "execution_count": 11
  },
  {
   "metadata": {
    "ExecuteTime": {
     "end_time": "2024-09-16T13:57:55.021791Z",
     "start_time": "2024-09-16T13:57:55.014266Z"
    }
   },
   "cell_type": "code",
   "source": [
    "param_ranges = {\n",
    "    'source': (0.0, 10.0),\n",
    "    'section': (0.0, 10.0),\n",
    "    'text': (0.0, 10.0)\n",
    "}\n",
    "\n",
    "def objective(boost_params):\n",
    "    def search_function(q):\n",
    "        return index.search(q['question'], boost_dict=boost_params)\n",
    "\n",
    "    results = evaluate(gt_val, search_function, progress_bar=False)\n",
    "    return results['mrr']"
   ],
   "id": "b85f767316f0299",
   "outputs": [],
   "execution_count": 12
  },
  {
   "metadata": {},
   "cell_type": "markdown",
   "source": "Test run",
   "id": "1a3dd05196eeaaa6"
  },
  {
   "metadata": {
    "ExecuteTime": {
     "end_time": "2024-09-16T13:58:18.240319Z",
     "start_time": "2024-09-16T13:57:55.048442Z"
    }
   },
   "cell_type": "code",
   "source": "simple_random_search_optimization(param_ranges, objective, n_iterations=20)",
   "id": "7d5a3963e9ccb45a",
   "outputs": [
    {
     "data": {
      "text/plain": [
       "Random search iterations:   0%|          | 0/20 [00:00<?, ?it/s]"
      ],
      "application/vnd.jupyter.widget-view+json": {
       "version_major": 2,
       "version_minor": 0,
       "model_id": "6f21664a85ff4bf0aaf7c2ad87b9e1ec"
      }
     },
     "metadata": {},
     "output_type": "display_data"
    },
    {
     "data": {
      "text/plain": [
       "({'source': 2.1384018352401393,\n",
       "  'section': 9.908948524711427,\n",
       "  'text': 2.879808810954154},\n",
       " 0.6833333333333332)"
      ]
     },
     "execution_count": 13,
     "metadata": {},
     "output_type": "execute_result"
    }
   ],
   "execution_count": 13
  },
  {
   "metadata": {},
   "cell_type": "markdown",
   "source": "Full run with all search types and num results",
   "id": "b271b78e605d14e4"
  },
  {
   "metadata": {
    "ExecuteTime": {
     "end_time": "2024-09-16T13:58:18.256011Z",
     "start_time": "2024-09-16T13:58:18.251756Z"
    }
   },
   "cell_type": "code",
   "source": [
    "def full_run_optimization(index, ground_truth, random_state=42) -> pd.DataFrame:\n",
    "    random.seed(random_state)\n",
    "    \n",
    "    param_ranges = {\n",
    "        'source': (0.0, 10.0),\n",
    "        'section': (0.0, 10.0),\n",
    "        'text': (0.0, 10.0)\n",
    "    }\n",
    "    \n",
    "    # select a validation set for tuning\n",
    "    val_size = len(df_question) // 2\n",
    "    df_validation = df_question.sample(n=val_size, random_state=42)\n",
    "    gt_val = df_validation.to_dict(orient='records')\n",
    "\n",
    "    results = []\n",
    "    for search_type in ['lexical', 'semantic', 'hybrid_rff']:\n",
    "        for num_results in [5, 10]:\n",
    "            if search_type == 'semantic':\n",
    "                boost_dict = {}\n",
    "            else:\n",
    "                def objective(boost_params):\n",
    "                    def search_function(q):\n",
    "                        return index.search(q['question'], search_type=search_type, boost_dict=boost_params, num_results=num_results)\n",
    "                \n",
    "                    results = evaluate(gt_val, search_function, progress_bar=False)\n",
    "                    return results['mrr']\n",
    "            \n",
    "                # find the best boosting parameters\n",
    "                best_params, best_score = simple_random_search_optimization(param_ranges, objective, n_iterations=100)\n",
    "                boost_dict = best_params\n",
    "            \n",
    "            # rerun evaluation using full test dataset\n",
    "            evaluation_results = evaluate(ground_truth, \n",
    "                                          lambda q: index.search(q['question'], search_type=search_type, boost_dict=boost_dict, num_results=num_results), \n",
    "                                          progress_bar=False)\n",
    "    \n",
    "            results.append({\n",
    "                'search_type': search_type,\n",
    "                'num_results': num_results,\n",
    "                'boost_dict': json.dumps(boost_dict),\n",
    "                'hit_rate': evaluation_results['hit_rate'],\n",
    "                'mrr': evaluation_results['mrr'],\n",
    "            })\n",
    "    \n",
    "    results = pd.DataFrame(results, columns=['search_type', 'num_results', 'boost_dict', 'hit_rate', 'mrr'])\n",
    "    return results"
   ],
   "id": "9ac01b0a77bafe5a",
   "outputs": [],
   "execution_count": 14
  },
  {
   "metadata": {
    "ExecuteTime": {
     "end_time": "2024-09-16T14:02:49.185019Z",
     "start_time": "2024-09-16T13:58:18.262533Z"
    }
   },
   "cell_type": "code",
   "source": [
    "results = full_run_optimization(index, ground_truth)\n",
    "results.sort_values(by='mrr', ascending=True, inplace=True)\n",
    "results.to_csv(f'../data/evaluation/{competition_slug}-retrieval-results.csv', index=False)\n",
    "results"
   ],
   "id": "d4faf6ee697d1262",
   "outputs": [
    {
     "data": {
      "text/plain": [
       "Random search iterations:   0%|          | 0/100 [00:00<?, ?it/s]"
      ],
      "application/vnd.jupyter.widget-view+json": {
       "version_major": 2,
       "version_minor": 0,
       "model_id": "0a9c976ba35b4fcab2aee93e9db025c4"
      }
     },
     "metadata": {},
     "output_type": "display_data"
    },
    {
     "data": {
      "text/plain": [
       "Random search iterations:   0%|          | 0/100 [00:00<?, ?it/s]"
      ],
      "application/vnd.jupyter.widget-view+json": {
       "version_major": 2,
       "version_minor": 0,
       "model_id": "a12414764aaf4c7f8071470f1ecad936"
      }
     },
     "metadata": {},
     "output_type": "display_data"
    },
    {
     "data": {
      "text/plain": [
       "Random search iterations:   0%|          | 0/100 [00:00<?, ?it/s]"
      ],
      "application/vnd.jupyter.widget-view+json": {
       "version_major": 2,
       "version_minor": 0,
       "model_id": "9252315ea4324ba186631d1ba579874d"
      }
     },
     "metadata": {},
     "output_type": "display_data"
    },
    {
     "data": {
      "text/plain": [
       "Random search iterations:   0%|          | 0/100 [00:00<?, ?it/s]"
      ],
      "application/vnd.jupyter.widget-view+json": {
       "version_major": 2,
       "version_minor": 0,
       "model_id": "e93f9b79749b4324ad375e2a18074beb"
      }
     },
     "metadata": {},
     "output_type": "display_data"
    },
    {
     "data": {
      "text/plain": [
       "  search_type  num_results                                         boost_dict  \\\n",
       "0     lexical            5  {\"source\": 6.981393949882269, \"section\": 3.402...   \n",
       "1     lexical           10  {\"source\": 0.24786361898188725, \"section\": 7.3...   \n",
       "4  hybrid_rff            5  {\"source\": 4.937952193450843, \"section\": 0.804...   \n",
       "2    semantic            5                                                 {}   \n",
       "3    semantic           10                                                 {}   \n",
       "5  hybrid_rff           10  {\"source\": 9.152559087431595, \"section\": 2.213...   \n",
       "\n",
       "   hit_rate       mrr  \n",
       "0  0.688889  0.524815  \n",
       "1  0.777778  0.537222  \n",
       "4  0.844444  0.655556  \n",
       "2  0.844444  0.667037  \n",
       "3  0.933333  0.679691  \n",
       "5  0.955556  0.705459  "
      ],
      "text/html": [
       "<div>\n",
       "<style scoped>\n",
       "    .dataframe tbody tr th:only-of-type {\n",
       "        vertical-align: middle;\n",
       "    }\n",
       "\n",
       "    .dataframe tbody tr th {\n",
       "        vertical-align: top;\n",
       "    }\n",
       "\n",
       "    .dataframe thead th {\n",
       "        text-align: right;\n",
       "    }\n",
       "</style>\n",
       "<table border=\"1\" class=\"dataframe\">\n",
       "  <thead>\n",
       "    <tr style=\"text-align: right;\">\n",
       "      <th></th>\n",
       "      <th>search_type</th>\n",
       "      <th>num_results</th>\n",
       "      <th>boost_dict</th>\n",
       "      <th>hit_rate</th>\n",
       "      <th>mrr</th>\n",
       "    </tr>\n",
       "  </thead>\n",
       "  <tbody>\n",
       "    <tr>\n",
       "      <th>0</th>\n",
       "      <td>lexical</td>\n",
       "      <td>5</td>\n",
       "      <td>{\"source\": 6.981393949882269, \"section\": 3.402...</td>\n",
       "      <td>0.688889</td>\n",
       "      <td>0.524815</td>\n",
       "    </tr>\n",
       "    <tr>\n",
       "      <th>1</th>\n",
       "      <td>lexical</td>\n",
       "      <td>10</td>\n",
       "      <td>{\"source\": 0.24786361898188725, \"section\": 7.3...</td>\n",
       "      <td>0.777778</td>\n",
       "      <td>0.537222</td>\n",
       "    </tr>\n",
       "    <tr>\n",
       "      <th>4</th>\n",
       "      <td>hybrid_rff</td>\n",
       "      <td>5</td>\n",
       "      <td>{\"source\": 4.937952193450843, \"section\": 0.804...</td>\n",
       "      <td>0.844444</td>\n",
       "      <td>0.655556</td>\n",
       "    </tr>\n",
       "    <tr>\n",
       "      <th>2</th>\n",
       "      <td>semantic</td>\n",
       "      <td>5</td>\n",
       "      <td>{}</td>\n",
       "      <td>0.844444</td>\n",
       "      <td>0.667037</td>\n",
       "    </tr>\n",
       "    <tr>\n",
       "      <th>3</th>\n",
       "      <td>semantic</td>\n",
       "      <td>10</td>\n",
       "      <td>{}</td>\n",
       "      <td>0.933333</td>\n",
       "      <td>0.679691</td>\n",
       "    </tr>\n",
       "    <tr>\n",
       "      <th>5</th>\n",
       "      <td>hybrid_rff</td>\n",
       "      <td>10</td>\n",
       "      <td>{\"source\": 9.152559087431595, \"section\": 2.213...</td>\n",
       "      <td>0.955556</td>\n",
       "      <td>0.705459</td>\n",
       "    </tr>\n",
       "  </tbody>\n",
       "</table>\n",
       "</div>"
      ]
     },
     "execution_count": 15,
     "metadata": {},
     "output_type": "execute_result"
    }
   ],
   "execution_count": 15
  },
  {
   "metadata": {},
   "cell_type": "markdown",
   "source": "After more advanced search hyperparameters tuning hybrid search + rff reranking turned out to be the best",
   "id": "6ee1dbc1d99a924e"
  },
  {
   "metadata": {},
   "cell_type": "markdown",
   "source": "### Evaluation on the 2nd dataset",
   "id": "667a84c9302dfb13"
  },
  {
   "metadata": {
    "ExecuteTime": {
     "end_time": "2024-09-16T14:19:23.909420Z",
     "start_time": "2024-09-16T14:02:49.236188Z"
    }
   },
   "cell_type": "code",
   "source": [
    "competition_slug = 'rohlik-orders-forecasting-challenge'\n",
    "index = create_index(competition_slug)\n",
    "\n",
    "df_question = pd.read_csv(f'../data/evaluation/{competition_slug}-ground-truth.csv')\n",
    "ground_truth = df_question.to_dict(orient='records')\n",
    "df_question.head()\n",
    "\n",
    "results = full_run_optimization(index, ground_truth)\n",
    "results.sort_values(by='mrr', ascending=True, inplace=True)\n",
    "results.to_csv(f'../data/evaluation/{competition_slug}-retrieval-results.csv', index=False)\n",
    "results"
   ],
   "id": "a609d03ea438e014",
   "outputs": [
    {
     "name": "stderr",
     "output_type": "stream",
     "text": [
      "/Users/vladkha/Desktop/Workspace/Coding/kaggle-competition-copilot/.venv/lib/python3.11/site-packages/transformers/tokenization_utils_base.py:1601: FutureWarning: `clean_up_tokenization_spaces` was not set. It will be set to `True` by default. This behavior will be depracted in transformers v4.45, and will be then set to `False` by default. For more details check this issue: https://github.com/huggingface/transformers/issues/31884\n",
      "  warnings.warn(\n"
     ]
    },
    {
     "data": {
      "text/plain": [
       "Creating document embeddings:   0%|          | 0/1117 [00:00<?, ?it/s]"
      ],
      "application/vnd.jupyter.widget-view+json": {
       "version_major": 2,
       "version_minor": 0,
       "model_id": "9038c53cd40343cbae5bc409dd3cd4c3"
      }
     },
     "metadata": {},
     "output_type": "display_data"
    },
    {
     "data": {
      "text/plain": [
       "Random search iterations:   0%|          | 0/100 [00:00<?, ?it/s]"
      ],
      "application/vnd.jupyter.widget-view+json": {
       "version_major": 2,
       "version_minor": 0,
       "model_id": "cb49a415cd2641b889c08b27de21831a"
      }
     },
     "metadata": {},
     "output_type": "display_data"
    },
    {
     "data": {
      "text/plain": [
       "Random search iterations:   0%|          | 0/100 [00:00<?, ?it/s]"
      ],
      "application/vnd.jupyter.widget-view+json": {
       "version_major": 2,
       "version_minor": 0,
       "model_id": "329ba7b0ba034eb8b8e1045ca2a8df78"
      }
     },
     "metadata": {},
     "output_type": "display_data"
    },
    {
     "data": {
      "text/plain": [
       "Random search iterations:   0%|          | 0/100 [00:00<?, ?it/s]"
      ],
      "application/vnd.jupyter.widget-view+json": {
       "version_major": 2,
       "version_minor": 0,
       "model_id": "0abd873bf40641a99b6e63cc81226365"
      }
     },
     "metadata": {},
     "output_type": "display_data"
    },
    {
     "data": {
      "text/plain": [
       "Random search iterations:   0%|          | 0/100 [00:00<?, ?it/s]"
      ],
      "application/vnd.jupyter.widget-view+json": {
       "version_major": 2,
       "version_minor": 0,
       "model_id": "ad5e0aeacabc44529f0647a56f989cbe"
      }
     },
     "metadata": {},
     "output_type": "display_data"
    },
    {
     "data": {
      "text/plain": [
       "  search_type  num_results                                         boost_dict  \\\n",
       "0     lexical            5  {\"source\": 3.380855621474553, \"section\": 5.883...   \n",
       "1     lexical           10  {\"source\": 6.6945884461991065, \"section\": 5.63...   \n",
       "4  hybrid_rff            5  {\"source\": 5.077376758096564, \"section\": 8.205...   \n",
       "5  hybrid_rff           10  {\"source\": 8.238553513904476, \"section\": 9.093...   \n",
       "2    semantic            5                                                 {}   \n",
       "3    semantic           10                                                 {}   \n",
       "\n",
       "   hit_rate       mrr  \n",
       "0  0.652174  0.520435  \n",
       "1  0.739130  0.533427  \n",
       "4  0.817391  0.680000  \n",
       "5  0.886957  0.685059  \n",
       "2  0.808696  0.694203  \n",
       "3  0.886957  0.706470  "
      ],
      "text/html": [
       "<div>\n",
       "<style scoped>\n",
       "    .dataframe tbody tr th:only-of-type {\n",
       "        vertical-align: middle;\n",
       "    }\n",
       "\n",
       "    .dataframe tbody tr th {\n",
       "        vertical-align: top;\n",
       "    }\n",
       "\n",
       "    .dataframe thead th {\n",
       "        text-align: right;\n",
       "    }\n",
       "</style>\n",
       "<table border=\"1\" class=\"dataframe\">\n",
       "  <thead>\n",
       "    <tr style=\"text-align: right;\">\n",
       "      <th></th>\n",
       "      <th>search_type</th>\n",
       "      <th>num_results</th>\n",
       "      <th>boost_dict</th>\n",
       "      <th>hit_rate</th>\n",
       "      <th>mrr</th>\n",
       "    </tr>\n",
       "  </thead>\n",
       "  <tbody>\n",
       "    <tr>\n",
       "      <th>0</th>\n",
       "      <td>lexical</td>\n",
       "      <td>5</td>\n",
       "      <td>{\"source\": 3.380855621474553, \"section\": 5.883...</td>\n",
       "      <td>0.652174</td>\n",
       "      <td>0.520435</td>\n",
       "    </tr>\n",
       "    <tr>\n",
       "      <th>1</th>\n",
       "      <td>lexical</td>\n",
       "      <td>10</td>\n",
       "      <td>{\"source\": 6.6945884461991065, \"section\": 5.63...</td>\n",
       "      <td>0.739130</td>\n",
       "      <td>0.533427</td>\n",
       "    </tr>\n",
       "    <tr>\n",
       "      <th>4</th>\n",
       "      <td>hybrid_rff</td>\n",
       "      <td>5</td>\n",
       "      <td>{\"source\": 5.077376758096564, \"section\": 8.205...</td>\n",
       "      <td>0.817391</td>\n",
       "      <td>0.680000</td>\n",
       "    </tr>\n",
       "    <tr>\n",
       "      <th>5</th>\n",
       "      <td>hybrid_rff</td>\n",
       "      <td>10</td>\n",
       "      <td>{\"source\": 8.238553513904476, \"section\": 9.093...</td>\n",
       "      <td>0.886957</td>\n",
       "      <td>0.685059</td>\n",
       "    </tr>\n",
       "    <tr>\n",
       "      <th>2</th>\n",
       "      <td>semantic</td>\n",
       "      <td>5</td>\n",
       "      <td>{}</td>\n",
       "      <td>0.808696</td>\n",
       "      <td>0.694203</td>\n",
       "    </tr>\n",
       "    <tr>\n",
       "      <th>3</th>\n",
       "      <td>semantic</td>\n",
       "      <td>10</td>\n",
       "      <td>{}</td>\n",
       "      <td>0.886957</td>\n",
       "      <td>0.706470</td>\n",
       "    </tr>\n",
       "  </tbody>\n",
       "</table>\n",
       "</div>"
      ]
     },
     "execution_count": 16,
     "metadata": {},
     "output_type": "execute_result"
    }
   ],
   "execution_count": 16
  },
  {
   "metadata": {},
   "cell_type": "markdown",
   "source": [
    "For the 2nd larger dataset semantic search turned out to be slightly better on MRR.\n",
    "\n",
    "**Note:** both datasets and index sizes are small."
   ],
   "id": "3b31754ba79dbaec"
  },
  {
   "metadata": {
    "ExecuteTime": {
     "end_time": "2024-09-16T14:19:24.028294Z",
     "start_time": "2024-09-16T14:19:24.026963Z"
    }
   },
   "cell_type": "code",
   "source": "",
   "id": "3965c0b9e55c6c4e",
   "outputs": [],
   "execution_count": null
  }
 ],
 "metadata": {
  "kernelspec": {
   "display_name": "Python 3",
   "language": "python",
   "name": "python3"
  },
  "language_info": {
   "codemirror_mode": {
    "name": "ipython",
    "version": 2
   },
   "file_extension": ".py",
   "mimetype": "text/x-python",
   "name": "python",
   "nbconvert_exporter": "python",
   "pygments_lexer": "ipython2",
   "version": "2.7.6"
  }
 },
 "nbformat": 4,
 "nbformat_minor": 5
}
