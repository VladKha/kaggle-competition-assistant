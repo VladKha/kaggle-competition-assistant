{
 "cells": [
  {
   "metadata": {
    "ExecuteTime": {
     "end_time": "2024-09-16T14:29:34.032264Z",
     "start_time": "2024-09-16T14:29:31.817744Z"
    }
   },
   "cell_type": "code",
   "source": [
    "import json\n",
    "import logging\n",
    "import pandas as pd\n",
    "import seaborn as sns\n",
    "import matplotlib.pyplot as plt\n",
    "\n",
    "from typing import Optional\n",
    "from tqdm.auto import tqdm\n",
    "\n",
    "from dotenv import load_dotenv\n",
    "load_dotenv('../.env')\n",
    "\n",
    "from kaggle_competition_assistant import KaggleCompetitionAssistant\n",
    "from kaggle_competition_assistant import llm\n",
    "\n",
    "from sentence_transformers import SentenceTransformer\n",
    "\n",
    "# Set the maximum number of rows to display\n",
    "pd.set_option('display.max_rows', 100)\n",
    "tqdm.pandas()\n",
    "\n",
    "logging.basicConfig(level=logging.WARNING, format='%(asctime)s - %(name)s - %(levelname)s - %(message)s')"
   ],
   "id": "9863a5a41e51409b",
   "outputs": [],
   "execution_count": 1
  },
  {
   "metadata": {},
   "cell_type": "markdown",
   "source": "## Ingestion",
   "id": "c0a0b2e4649f5e48"
  },
  {
   "metadata": {
    "ExecuteTime": {
     "end_time": "2024-09-16T14:29:34.036894Z",
     "start_time": "2024-09-16T14:29:34.034991Z"
    }
   },
   "cell_type": "code",
   "source": [
    "def create_assistant(competition_slug):\n",
    "    competition_data_path = '../data/' + competition_slug\n",
    "    assistant = KaggleCompetitionAssistant(competition_slug, competition_data_path=competition_data_path, index_type='opensearch',\n",
    "                                           index_configs={'index_name': 'kaggle-assistant-' + competition_slug})\n",
    "    return assistant"
   ],
   "id": "22a6399c5cb8829c",
   "outputs": [],
   "execution_count": 2
  },
  {
   "metadata": {
    "ExecuteTime": {
     "end_time": "2024-09-16T14:29:48.768613Z",
     "start_time": "2024-09-16T14:29:34.117723Z"
    }
   },
   "cell_type": "code",
   "source": [
    "competition_slug = 'llm-zoomcamp-2024-competition'\n",
    "assistant = create_assistant(competition_slug)"
   ],
   "id": "8089f25c23b49d90",
   "outputs": [
    {
     "name": "stderr",
     "output_type": "stream",
     "text": [
      "/Users/vladkha/Desktop/Workspace/Coding/kaggle-competition-copilot/.venv/lib/python3.11/site-packages/transformers/tokenization_utils_base.py:1601: FutureWarning: `clean_up_tokenization_spaces` was not set. It will be set to `True` by default. This behavior will be depracted in transformers v4.45, and will be then set to `False` by default. For more details check this issue: https://github.com/huggingface/transformers/issues/31884\n",
      "  warnings.warn(\n"
     ]
    },
    {
     "data": {
      "text/plain": [
       "Creating document embeddings:   0%|          | 0/91 [00:00<?, ?it/s]"
      ],
      "application/vnd.jupyter.widget-view+json": {
       "version_major": 2,
       "version_minor": 0,
       "model_id": "f3667a7a66db4b8786a35c7e10f53920"
      }
     },
     "metadata": {},
     "output_type": "display_data"
    }
   ],
   "execution_count": 3
  },
  {
   "metadata": {},
   "cell_type": "markdown",
   "source": "## End2End evaluation",
   "id": "a1ed57dfd43a6e00"
  },
  {
   "metadata": {},
   "cell_type": "markdown",
   "source": "### Load ground truth",
   "id": "c586a4f4748b5ba3"
  },
  {
   "metadata": {
    "ExecuteTime": {
     "end_time": "2024-09-16T14:29:48.819169Z",
     "start_time": "2024-09-16T14:29:48.787920Z"
    }
   },
   "cell_type": "code",
   "source": [
    "df_question = pd.read_csv(f'../data/evaluation/{competition_slug}-ground-truth.csv')\n",
    "ground_truth = df_question.to_dict(orient='records')\n",
    "\n",
    "df_question.sample(5)"
   ],
   "id": "987c713ae04eda5b",
   "outputs": [
    {
     "data": {
      "text/plain": [
       "    doc_id                                           question  \\\n",
       "12       7  What are some examples of problem IDs and thei...   \n",
       "7        3     What is the main objective of the competition?   \n",
       "29      20        How many files are provided in the dataset?   \n",
       "44      90  How impactful can prompt engineering be in thi...   \n",
       "20      13  What is the name of the column containing the ...   \n",
       "\n",
       "                                               answer  \n",
       "12  Examples include 11919 with answer 11, 8513 wi...  \n",
       "7   To predict the correct answer for each problem...  \n",
       "29                                                  7  \n",
       "44  Significant improvements in scores have been o...  \n",
       "20                                             answer  "
      ],
      "text/html": [
       "<div>\n",
       "<style scoped>\n",
       "    .dataframe tbody tr th:only-of-type {\n",
       "        vertical-align: middle;\n",
       "    }\n",
       "\n",
       "    .dataframe tbody tr th {\n",
       "        vertical-align: top;\n",
       "    }\n",
       "\n",
       "    .dataframe thead th {\n",
       "        text-align: right;\n",
       "    }\n",
       "</style>\n",
       "<table border=\"1\" class=\"dataframe\">\n",
       "  <thead>\n",
       "    <tr style=\"text-align: right;\">\n",
       "      <th></th>\n",
       "      <th>doc_id</th>\n",
       "      <th>question</th>\n",
       "      <th>answer</th>\n",
       "    </tr>\n",
       "  </thead>\n",
       "  <tbody>\n",
       "    <tr>\n",
       "      <th>12</th>\n",
       "      <td>7</td>\n",
       "      <td>What are some examples of problem IDs and thei...</td>\n",
       "      <td>Examples include 11919 with answer 11, 8513 wi...</td>\n",
       "    </tr>\n",
       "    <tr>\n",
       "      <th>7</th>\n",
       "      <td>3</td>\n",
       "      <td>What is the main objective of the competition?</td>\n",
       "      <td>To predict the correct answer for each problem...</td>\n",
       "    </tr>\n",
       "    <tr>\n",
       "      <th>29</th>\n",
       "      <td>20</td>\n",
       "      <td>How many files are provided in the dataset?</td>\n",
       "      <td>7</td>\n",
       "    </tr>\n",
       "    <tr>\n",
       "      <th>44</th>\n",
       "      <td>90</td>\n",
       "      <td>How impactful can prompt engineering be in thi...</td>\n",
       "      <td>Significant improvements in scores have been o...</td>\n",
       "    </tr>\n",
       "    <tr>\n",
       "      <th>20</th>\n",
       "      <td>13</td>\n",
       "      <td>What is the name of the column containing the ...</td>\n",
       "      <td>answer</td>\n",
       "    </tr>\n",
       "  </tbody>\n",
       "</table>\n",
       "</div>"
      ]
     },
     "execution_count": 4,
     "metadata": {},
     "output_type": "execute_result"
    }
   ],
   "execution_count": 4
  },
  {
   "metadata": {},
   "cell_type": "markdown",
   "source": "### Generate assistant answers",
   "id": "91c3ea82a55d9585"
  },
  {
   "metadata": {
    "ExecuteTime": {
     "end_time": "2024-09-16T14:29:48.855220Z",
     "start_time": "2024-09-16T14:29:48.849117Z"
    }
   },
   "cell_type": "code",
   "source": [
    "def generate_assistant_answers(assistant, ground_truth, retrieval_configs={}, num_results=5, generation_llm_prompt=None):\n",
    "    answers = {}\n",
    "    \n",
    "    for i, rec in enumerate(tqdm(ground_truth)):\n",
    "        if i in answers:\n",
    "            continue\n",
    "    \n",
    "        answer_assistant = assistant.query(rec['question'],\n",
    "                                           retrieval_configs=retrieval_configs, retrieval_n_results=num_results,\n",
    "                                           generation_llm_prompt=generation_llm_prompt)[0]\n",
    "    \n",
    "        answers[i] = {\n",
    "            'question': rec['question'],\n",
    "            'answer_assistant': answer_assistant,\n",
    "            'answer_orig': rec['answer'],\n",
    "            'document_orig': rec['doc_id'],\n",
    "        }\n",
    "        \n",
    "    return answers"
   ],
   "id": "986175e87841fba0",
   "outputs": [],
   "execution_count": 5
  },
  {
   "metadata": {
    "ExecuteTime": {
     "end_time": "2024-09-16T14:32:48.084028Z",
     "start_time": "2024-09-16T14:29:48.886646Z"
    }
   },
   "cell_type": "code",
   "source": [
    "assistant_answers = generate_assistant_answers(assistant, ground_truth,\n",
    "                                               retrieval_configs={\n",
    "                                                   'search_type': 'hybrid_rff',\n",
    "                                                   'boost_dict': {\"source\": 9.15, \"section\": 2.21, \"text\": 0.63} # after hyperparameter tuning\n",
    "                                               }, num_results=10)"
   ],
   "id": "cb6076b441d7f6fd",
   "outputs": [
    {
     "data": {
      "text/plain": [
       "  0%|          | 0/45 [00:00<?, ?it/s]"
      ],
      "application/vnd.jupyter.widget-view+json": {
       "version_major": 2,
       "version_minor": 0,
       "model_id": "890fbbc05eae4f299794fd61060cedd7"
      }
     },
     "metadata": {},
     "output_type": "display_data"
    }
   ],
   "execution_count": 6
  },
  {
   "metadata": {
    "ExecuteTime": {
     "end_time": "2024-09-16T14:32:48.142960Z",
     "start_time": "2024-09-16T14:32:48.116897Z"
    }
   },
   "cell_type": "code",
   "source": [
    "df_answers = pd.DataFrame(assistant_answers.values(), columns=['question', 'answer_assistant', 'answer_orig', 'document_orig'])\n",
    "df_answers.to_csv(f'../data/evaluation/{competition_slug}-rag-answers.csv', index=False)\n",
    "df_answers.sample(5, random_state=42)"
   ],
   "id": "b150fd226ae2d116",
   "outputs": [
    {
     "data": {
      "text/plain": [
       "                                             question  \\\n",
       "39          What is the score of ArturG's submission?   \n",
       "25  What is the unique identifier for each problem...   \n",
       "26  What is the language of the mathematical probl...   \n",
       "43  What accuracy did the Claude Sonnet 3.5 model ...   \n",
       "35       How many columns are present in the dataset?   \n",
       "\n",
       "                                       answer_copilot  \\\n",
       "39    ArturG's submission has a score of **0.93750**.   \n",
       "25  The unique identifier for each problem in the ...   \n",
       "26  The mathematical problem statements in the `ru...   \n",
       "43  The Claude Sonnet 3.5 model achieved an accura...   \n",
       "35                        The dataset has 19 columns.   \n",
       "\n",
       "                                          answer_orig  document_orig  \n",
       "39                                            0.93750             29  \n",
       "25                                         problem_id             17  \n",
       "26                                            Russian             18  \n",
       "43  The Claude Sonnet 3.5 model achieved 85% accur...             89  \n",
       "35                                                 19             25  "
      ],
      "text/html": [
       "<div>\n",
       "<style scoped>\n",
       "    .dataframe tbody tr th:only-of-type {\n",
       "        vertical-align: middle;\n",
       "    }\n",
       "\n",
       "    .dataframe tbody tr th {\n",
       "        vertical-align: top;\n",
       "    }\n",
       "\n",
       "    .dataframe thead th {\n",
       "        text-align: right;\n",
       "    }\n",
       "</style>\n",
       "<table border=\"1\" class=\"dataframe\">\n",
       "  <thead>\n",
       "    <tr style=\"text-align: right;\">\n",
       "      <th></th>\n",
       "      <th>question</th>\n",
       "      <th>answer_copilot</th>\n",
       "      <th>answer_orig</th>\n",
       "      <th>document_orig</th>\n",
       "    </tr>\n",
       "  </thead>\n",
       "  <tbody>\n",
       "    <tr>\n",
       "      <th>39</th>\n",
       "      <td>What is the score of ArturG's submission?</td>\n",
       "      <td>ArturG's submission has a score of **0.93750**.</td>\n",
       "      <td>0.93750</td>\n",
       "      <td>29</td>\n",
       "    </tr>\n",
       "    <tr>\n",
       "      <th>25</th>\n",
       "      <td>What is the unique identifier for each problem...</td>\n",
       "      <td>The unique identifier for each problem in the ...</td>\n",
       "      <td>problem_id</td>\n",
       "      <td>17</td>\n",
       "    </tr>\n",
       "    <tr>\n",
       "      <th>26</th>\n",
       "      <td>What is the language of the mathematical probl...</td>\n",
       "      <td>The mathematical problem statements in the `ru...</td>\n",
       "      <td>Russian</td>\n",
       "      <td>18</td>\n",
       "    </tr>\n",
       "    <tr>\n",
       "      <th>43</th>\n",
       "      <td>What accuracy did the Claude Sonnet 3.5 model ...</td>\n",
       "      <td>The Claude Sonnet 3.5 model achieved an accura...</td>\n",
       "      <td>The Claude Sonnet 3.5 model achieved 85% accur...</td>\n",
       "      <td>89</td>\n",
       "    </tr>\n",
       "    <tr>\n",
       "      <th>35</th>\n",
       "      <td>How many columns are present in the dataset?</td>\n",
       "      <td>The dataset has 19 columns.</td>\n",
       "      <td>19</td>\n",
       "      <td>25</td>\n",
       "    </tr>\n",
       "  </tbody>\n",
       "</table>\n",
       "</div>"
      ]
     },
     "execution_count": 7,
     "metadata": {},
     "output_type": "execute_result"
    }
   ],
   "execution_count": 7
  },
  {
   "metadata": {},
   "cell_type": "markdown",
   "source": "### Cosine similarity metric",
   "id": "f47e221c46b16b6"
  },
  {
   "metadata": {
    "ExecuteTime": {
     "end_time": "2024-09-16T14:32:58.344103Z",
     "start_time": "2024-09-16T14:32:48.168815Z"
    }
   },
   "cell_type": "code",
   "source": [
    "model_name = 'Lajavaness/bilingual-embedding-large' # best Semantic Textual Similarity model according to https://huggingface.co/spaces/mteb/leaderboard \n",
    "model = SentenceTransformer(model_name, trust_remote_code=True)"
   ],
   "id": "ad09b8aa486c9a6c",
   "outputs": [],
   "execution_count": 8
  },
  {
   "metadata": {
    "ExecuteTime": {
     "end_time": "2024-09-16T14:32:58.393169Z",
     "start_time": "2024-09-16T14:32:58.390935Z"
    }
   },
   "cell_type": "code",
   "source": [
    "def compute_similarity(record):\n",
    "    answer_orig = record['answer_orig']\n",
    "    answer_rag = record['answer_assistant']\n",
    "    \n",
    "    v_rag = model.encode(answer_rag)\n",
    "    v_orig = model.encode(answer_orig)\n",
    "    \n",
    "    return v_rag.dot(v_orig)"
   ],
   "id": "180cd3368836cfc2",
   "outputs": [],
   "execution_count": 9
  },
  {
   "metadata": {
    "ExecuteTime": {
     "end_time": "2024-09-16T14:33:10.423643Z",
     "start_time": "2024-09-16T14:32:58.425542Z"
    }
   },
   "cell_type": "code",
   "source": "df_answers['cosine_similarity'] = df_answers.progress_apply(lambda row: compute_similarity(row), axis=1)",
   "id": "f55825a315ab8c38",
   "outputs": [
    {
     "data": {
      "text/plain": [
       "  0%|          | 0/45 [00:00<?, ?it/s]"
      ],
      "application/vnd.jupyter.widget-view+json": {
       "version_major": 2,
       "version_minor": 0,
       "model_id": "54972372e10f426687484aa9737a60c4"
      }
     },
     "metadata": {},
     "output_type": "display_data"
    }
   ],
   "execution_count": 10
  },
  {
   "metadata": {
    "ExecuteTime": {
     "end_time": "2024-09-16T14:33:10.436746Z",
     "start_time": "2024-09-16T14:33:10.431408Z"
    }
   },
   "cell_type": "code",
   "source": "df_answers.head()",
   "id": "6e0449cb74d812b4",
   "outputs": [
    {
     "data": {
      "text/plain": [
       "                                            question  \\\n",
       "0        What is the name of the Kaggle competition?   \n",
       "1  What type of problems are participants asked t...   \n",
       "2     What is the main objective of the competition?   \n",
       "3  Where do the mathematics problems originate from?   \n",
       "4                  How were the problems translated?   \n",
       "\n",
       "                                      answer_copilot  \\\n",
       "0  The Kaggle competition is called \"LLM Zoomcamp...   \n",
       "1  Participants in the LLM Zoomcamp 2024 Competit...   \n",
       "2  The main objective of the competition is to de...   \n",
       "3  The mathematics problems originate from the [Е...   \n",
       "4  The problems were translated from Russian to E...   \n",
       "\n",
       "                                         answer_orig  document_orig  \\\n",
       "0                      LLM Zoomcamp 2024 Competition              0   \n",
       "1                  High school mathematical problems              1   \n",
       "2  Participants need to solve high school mathema...              2   \n",
       "3  The problems originate from the Unified State ...              2   \n",
       "4  Each problem was translated to English using G...              2   \n",
       "\n",
       "   cosine_similarity  \n",
       "0           0.811396  \n",
       "1           0.574622  \n",
       "2           0.639532  \n",
       "3           0.965727  \n",
       "4           0.892885  "
      ],
      "text/html": [
       "<div>\n",
       "<style scoped>\n",
       "    .dataframe tbody tr th:only-of-type {\n",
       "        vertical-align: middle;\n",
       "    }\n",
       "\n",
       "    .dataframe tbody tr th {\n",
       "        vertical-align: top;\n",
       "    }\n",
       "\n",
       "    .dataframe thead th {\n",
       "        text-align: right;\n",
       "    }\n",
       "</style>\n",
       "<table border=\"1\" class=\"dataframe\">\n",
       "  <thead>\n",
       "    <tr style=\"text-align: right;\">\n",
       "      <th></th>\n",
       "      <th>question</th>\n",
       "      <th>answer_copilot</th>\n",
       "      <th>answer_orig</th>\n",
       "      <th>document_orig</th>\n",
       "      <th>cosine_similarity</th>\n",
       "    </tr>\n",
       "  </thead>\n",
       "  <tbody>\n",
       "    <tr>\n",
       "      <th>0</th>\n",
       "      <td>What is the name of the Kaggle competition?</td>\n",
       "      <td>The Kaggle competition is called \"LLM Zoomcamp...</td>\n",
       "      <td>LLM Zoomcamp 2024 Competition</td>\n",
       "      <td>0</td>\n",
       "      <td>0.811396</td>\n",
       "    </tr>\n",
       "    <tr>\n",
       "      <th>1</th>\n",
       "      <td>What type of problems are participants asked t...</td>\n",
       "      <td>Participants in the LLM Zoomcamp 2024 Competit...</td>\n",
       "      <td>High school mathematical problems</td>\n",
       "      <td>1</td>\n",
       "      <td>0.574622</td>\n",
       "    </tr>\n",
       "    <tr>\n",
       "      <th>2</th>\n",
       "      <td>What is the main objective of the competition?</td>\n",
       "      <td>The main objective of the competition is to de...</td>\n",
       "      <td>Participants need to solve high school mathema...</td>\n",
       "      <td>2</td>\n",
       "      <td>0.639532</td>\n",
       "    </tr>\n",
       "    <tr>\n",
       "      <th>3</th>\n",
       "      <td>Where do the mathematics problems originate from?</td>\n",
       "      <td>The mathematics problems originate from the [Е...</td>\n",
       "      <td>The problems originate from the Unified State ...</td>\n",
       "      <td>2</td>\n",
       "      <td>0.965727</td>\n",
       "    </tr>\n",
       "    <tr>\n",
       "      <th>4</th>\n",
       "      <td>How were the problems translated?</td>\n",
       "      <td>The problems were translated from Russian to E...</td>\n",
       "      <td>Each problem was translated to English using G...</td>\n",
       "      <td>2</td>\n",
       "      <td>0.892885</td>\n",
       "    </tr>\n",
       "  </tbody>\n",
       "</table>\n",
       "</div>"
      ]
     },
     "execution_count": 11,
     "metadata": {},
     "output_type": "execute_result"
    }
   ],
   "execution_count": 11
  },
  {
   "metadata": {
    "ExecuteTime": {
     "end_time": "2024-09-16T14:33:10.481274Z",
     "start_time": "2024-09-16T14:33:10.474843Z"
    }
   },
   "cell_type": "code",
   "source": "df_answers['cosine_similarity'].describe()",
   "id": "433d988f38d41968",
   "outputs": [
    {
     "data": {
      "text/plain": [
       "count    45.000000\n",
       "mean      0.660743\n",
       "std       0.213638\n",
       "min       0.006070\n",
       "25%       0.464731\n",
       "50%       0.679022\n",
       "75%       0.848746\n",
       "max       1.000000\n",
       "Name: cosine_similarity, dtype: float64"
      ]
     },
     "execution_count": 12,
     "metadata": {},
     "output_type": "execute_result"
    }
   ],
   "execution_count": 12
  },
  {
   "metadata": {},
   "cell_type": "markdown",
   "source": "Distribution of cosine similarities plot",
   "id": "592ea9c3c8543164"
  },
  {
   "metadata": {
    "ExecuteTime": {
     "end_time": "2024-09-16T14:33:10.885652Z",
     "start_time": "2024-09-16T14:33:10.512748Z"
    }
   },
   "cell_type": "code",
   "source": [
    "sns.histplot(df_answers['cosine_similarity'], kde=True, stat='density')\n",
    "\n",
    "plt.title(\"RAG End2End evaluation\")\n",
    "plt.xlabel(\"Generated answer vs Ground truth answer Cosine Similarity\")\n",
    "plt.legend()"
   ],
   "id": "bc24f848a1f0d879",
   "outputs": [
    {
     "name": "stderr",
     "output_type": "stream",
     "text": [
      "/var/folders/pm/jl5fx4c52mg00plwqrbg03tm0000gn/T/ipykernel_2990/3266868292.py:5: UserWarning: No artists with labels found to put in legend.  Note that artists whose label start with an underscore are ignored when legend() is called with no argument.\n",
      "  plt.legend()\n"
     ]
    },
    {
     "data": {
      "text/plain": [
       "<matplotlib.legend.Legend at 0x15ba306d0>"
      ]
     },
     "execution_count": 13,
     "metadata": {},
     "output_type": "execute_result"
    },
    {
     "data": {
      "text/plain": [
       "<Figure size 640x480 with 1 Axes>"
      ],
      "image/png": "[encoded data removed]"
     },
     "metadata": {},
     "output_type": "display_data"
    }
   ],
   "execution_count": 13
  },
  {
   "metadata": {},
   "cell_type": "markdown",
   "source": "### LLM-as-a-Judge",
   "id": "fc6982932f03cf3b"
  },
  {
   "metadata": {
    "ExecuteTime": {
     "end_time": "2024-09-16T14:33:10.938208Z",
     "start_time": "2024-09-16T14:33:10.934693Z"
    }
   },
   "cell_type": "code",
   "source": [
    "llm_judge_aa_template = \"\"\"\n",
    "You are an expert evaluator for a Retrieval-Augmented Generation (RAG) system.\n",
    "Your task is to analyze the relevance of the generated answer compared to the original answer provided.\n",
    "Based on the relevance and similarity of the generated answer to the original answer, you will classify\n",
    "it as \"NON_RELEVANT\", \"PARTIALLY_RELEVANT\", or \"RELEVANT\".\n",
    "\n",
    "Here is the data for evaluation:\n",
    "\n",
    "Original Answer: {answer_orig}\n",
    "Question: {question}\n",
    "Generated Answer: {answer_assistant}\n",
    "\n",
    "Please analyze the content and context of the generated answer in relation to the original\n",
    "answer and provide your evaluation in parsable JSON without using any code blocks:\n",
    "{{\n",
    "  \"relevance\": \"NON_RELEVANT\" | \"PARTIALLY_RELEVANT\" | \"RELEVANT\",\n",
    "  \"explanation\": \"[Provide a brief explanation for your evaluation]\"\n",
    "}}\n",
    "\"\"\".strip()\n",
    "\n",
    "llm_judge_aq_template = \"\"\"\n",
    "You are an expert evaluator for a Retrieval-Augmented Generation (RAG) system.\n",
    "Your task is to analyze the relevance of the generated answer to a given question.\n",
    "Based on the relevance of the generated answer, you will classify it as \"NON_RELEVANT\", \"PARTIALLY_RELEVANT\", or \"RELEVANT\".\n",
    "\n",
    "The context of the question and answer relate to a Kaggle competition.\n",
    "Avoid:\n",
    "- trying to determine the correctness of the answer. Just focus on generic relevance of answer to the topic of the question.\n",
    "- trying to reason about the specificity of the answer or additional context. Just focus on generic relevance of answer to the topic of the question.\n",
    "\n",
    "Here is the data for evaluation:\n",
    "Question: {question}\n",
    "Generated answer: {answer_assistant}\n",
    "\n",
    "Please analyze the content of the generated answer in relation to the question and provide your evaluation in parsable JSON without using any code blocks:\n",
    "{{\n",
    "  \"relevance\": \"NON_RELEVANT\" | \"PARTIALLY_RELEVANT\" | \"RELEVANT\",\n",
    "  \"explanation\": \"[Provide a brief explanation for your evaluation]\"\n",
    "}}\n",
    "\"\"\".strip()"
   ],
   "id": "6e1a940f492042e3",
   "outputs": [],
   "execution_count": 14
  },
  {
   "metadata": {},
   "cell_type": "markdown",
   "source": "Sample prompt",
   "id": "bac28a1d50d58545"
  },
  {
   "metadata": {
    "ExecuteTime": {
     "end_time": "2024-09-16T14:33:10.990598Z",
     "start_time": "2024-09-16T14:33:10.988333Z"
    }
   },
   "cell_type": "code",
   "source": [
    "q = df_answers['question'].values[0]\n",
    "a_c = df_answers['answer_assistant'].values[0]\n",
    "a_o = df_answers['answer_orig'].values[0]\n",
    "print(llm_judge_aa_template.format(question=q, answer_assistant=a_c, answer_orig=a_o))"
   ],
   "id": "f4858dd7874a7170",
   "outputs": [
    {
     "name": "stdout",
     "output_type": "stream",
     "text": [
      "You are an expert evaluator for a Retrieval-Augmented Generation (RAG) system.\n",
      "Your task is to analyze the relevance of the generated answer compared to the original answer provided.\n",
      "Based on the relevance and similarity of the generated answer to the original answer, you will classify\n",
      "it as \"NON_RELEVANT\", \"PARTIALLY_RELEVANT\", or \"RELEVANT\".\n",
      "\n",
      "Here is the data for evaluation:\n",
      "\n",
      "Original Answer: LLM Zoomcamp 2024 Competition\n",
      "Question: What is the name of the Kaggle competition?\n",
      "Generated Answer: The Kaggle competition is called \"LLM Zoomcamp 2024 Competition\".\n",
      "\n",
      "Please analyze the content and context of the generated answer in relation to the original\n",
      "answer and provide your evaluation in parsable JSON without using any code blocks:\n",
      "{\n",
      "  \"relevance\": \"NON_RELEVANT\" | \"PARTIALLY_RELEVANT\" | \"RELEVANT\",\n",
      "  \"explanation\": \"[Provide a brief explanation for your evaluation]\"\n",
      "}\n"
     ]
    }
   ],
   "execution_count": 15
  },
  {
   "metadata": {
    "ExecuteTime": {
     "end_time": "2024-09-16T14:33:11.033150Z",
     "start_time": "2024-09-16T14:33:11.029046Z"
    }
   },
   "cell_type": "code",
   "source": [
    "def llm_as_a_judge(prompt_template, records):\n",
    "    evaluations = []\n",
    "    for i,record in tqdm(records.iterrows(), desc='Evaluating with LLM as a judge', total=len(records)):\n",
    "        prompt = prompt_template.format(**record)\n",
    "        \n",
    "        while True:\n",
    "            try:\n",
    "                evaluation = llm(prompt)[0]\n",
    "                \n",
    "                # still some scrubbing of code blocks required\n",
    "                evaluation = evaluation.removeprefix(\"```json\").removesuffix(\"```\")\n",
    "                \n",
    "                evaluation = json.loads(evaluation)\n",
    "                evaluations.append(evaluation)\n",
    "                break\n",
    "            except Exception as e:\n",
    "                print(evaluation)\n",
    "                print(f'Failed generating judgement: {e}. Trying again...')\n",
    "        \n",
    "    df_evaluations = pd.DataFrame(evaluations)\n",
    "    \n",
    "    return df_evaluations"
   ],
   "id": "33d469e8c4e77de9",
   "outputs": [],
   "execution_count": 16
  },
  {
   "metadata": {
    "ExecuteTime": {
     "end_time": "2024-09-16T14:35:04.289709Z",
     "start_time": "2024-09-16T14:33:11.061708Z"
    }
   },
   "cell_type": "code",
   "source": [
    "df_evaluations_aa = llm_as_a_judge(llm_judge_aa_template, df_answers)\n",
    "df_answers['aa_relevance'] = df_evaluations_aa['relevance']\n",
    "df_answers['aa_relevance_explanation'] = df_evaluations_aa['explanation']"
   ],
   "id": "77c49d357ad9e506",
   "outputs": [
    {
     "data": {
      "text/plain": [
       "Evaluating with LLM as a judge:   0%|          | 0/45 [00:00<?, ?it/s]"
      ],
      "application/vnd.jupyter.widget-view+json": {
       "version_major": 2,
       "version_minor": 0,
       "model_id": "33ad3e8091c74b4d9064f54d0a21f2e2"
      }
     },
     "metadata": {},
     "output_type": "display_data"
    }
   ],
   "execution_count": 17
  },
  {
   "metadata": {
    "ExecuteTime": {
     "end_time": "2024-09-16T14:35:04.322153Z",
     "start_time": "2024-09-16T14:35:04.313948Z"
    }
   },
   "cell_type": "code",
   "source": "df_answers['aa_relevance'].value_counts()",
   "id": "2b45c7594008f059",
   "outputs": [
    {
     "data": {
      "text/plain": [
       "aa_relevance\n",
       "RELEVANT              37\n",
       "PARTIALLY_RELEVANT     4\n",
       "NON_RELEVANT           4\n",
       "Name: count, dtype: int64"
      ]
     },
     "execution_count": 18,
     "metadata": {},
     "output_type": "execute_result"
    }
   ],
   "execution_count": 18
  },
  {
   "metadata": {
    "ExecuteTime": {
     "end_time": "2024-09-16T14:35:04.365871Z",
     "start_time": "2024-09-16T14:35:04.362134Z"
    }
   },
   "cell_type": "code",
   "source": "df_answers['aa_relevance'].value_counts(normalize=True)",
   "id": "92cb6dc15aa7ee9",
   "outputs": [
    {
     "data": {
      "text/plain": [
       "aa_relevance\n",
       "RELEVANT              0.822222\n",
       "PARTIALLY_RELEVANT    0.088889\n",
       "NON_RELEVANT          0.088889\n",
       "Name: proportion, dtype: float64"
      ]
     },
     "execution_count": 19,
     "metadata": {},
     "output_type": "execute_result"
    }
   ],
   "execution_count": 19
  },
  {
   "metadata": {
    "ExecuteTime": {
     "end_time": "2024-09-16T14:35:04.380118Z",
     "start_time": "2024-09-16T14:35:04.373928Z"
    }
   },
   "cell_type": "code",
   "source": "df_answers[df_answers['aa_relevance'] == 'NON_RELEVANT']",
   "id": "cdd0ca9946a3e50a",
   "outputs": [
    {
     "data": {
      "text/plain": [
       "                                             question  \\\n",
       "12  What are some examples of problem IDs and thei...   \n",
       "28  What is the initial value for the 'answer' col...   \n",
       "36                    Who won the Kaggle competition?   \n",
       "41  What are some suggested ways to utilize large ...   \n",
       "\n",
       "                                       answer_copilot  \\\n",
       "12  The provided context doesn't include specific ...   \n",
       "28  The initial value for the 'answer' column in t...   \n",
       "36  The provided context does not mention the winn...   \n",
       "41  The provided context does not suggest specific...   \n",
       "\n",
       "                                          answer_orig  document_orig  \\\n",
       "12  Examples include 11919 with answer 11, 8513 wi...              7   \n",
       "28                                          No answer             19   \n",
       "36                                    CHINONSO ODIAKA             26   \n",
       "41  Experimenting with various system prompts, suc...             87   \n",
       "\n",
       "    cosine_similarity  aa_relevance  \\\n",
       "12           0.408701  NON_RELEVANT   \n",
       "28           0.600175  NON_RELEVANT   \n",
       "36           0.006070  NON_RELEVANT   \n",
       "41           0.502092  NON_RELEVANT   \n",
       "\n",
       "                             aa_relevance_explanation  \n",
       "12  The generated answer completely misses the exa...  \n",
       "28  The original answer is 'No answer', meaning th...  \n",
       "36  The generated answer is not relevant to the or...  \n",
       "41  The generated answer completely ignores the in...  "
      ],
      "text/html": [
       "<div>\n",
       "<style scoped>\n",
       "    .dataframe tbody tr th:only-of-type {\n",
       "        vertical-align: middle;\n",
       "    }\n",
       "\n",
       "    .dataframe tbody tr th {\n",
       "        vertical-align: top;\n",
       "    }\n",
       "\n",
       "    .dataframe thead th {\n",
       "        text-align: right;\n",
       "    }\n",
       "</style>\n",
       "<table border=\"1\" class=\"dataframe\">\n",
       "  <thead>\n",
       "    <tr style=\"text-align: right;\">\n",
       "      <th></th>\n",
       "      <th>question</th>\n",
       "      <th>answer_copilot</th>\n",
       "      <th>answer_orig</th>\n",
       "      <th>document_orig</th>\n",
       "      <th>cosine_similarity</th>\n",
       "      <th>aa_relevance</th>\n",
       "      <th>aa_relevance_explanation</th>\n",
       "    </tr>\n",
       "  </thead>\n",
       "  <tbody>\n",
       "    <tr>\n",
       "      <th>12</th>\n",
       "      <td>What are some examples of problem IDs and thei...</td>\n",
       "      <td>The provided context doesn't include specific ...</td>\n",
       "      <td>Examples include 11919 with answer 11, 8513 wi...</td>\n",
       "      <td>7</td>\n",
       "      <td>0.408701</td>\n",
       "      <td>NON_RELEVANT</td>\n",
       "      <td>The generated answer completely misses the exa...</td>\n",
       "    </tr>\n",
       "    <tr>\n",
       "      <th>28</th>\n",
       "      <td>What is the initial value for the 'answer' col...</td>\n",
       "      <td>The initial value for the 'answer' column in t...</td>\n",
       "      <td>No answer</td>\n",
       "      <td>19</td>\n",
       "      <td>0.600175</td>\n",
       "      <td>NON_RELEVANT</td>\n",
       "      <td>The original answer is 'No answer', meaning th...</td>\n",
       "    </tr>\n",
       "    <tr>\n",
       "      <th>36</th>\n",
       "      <td>Who won the Kaggle competition?</td>\n",
       "      <td>The provided context does not mention the winn...</td>\n",
       "      <td>CHINONSO ODIAKA</td>\n",
       "      <td>26</td>\n",
       "      <td>0.006070</td>\n",
       "      <td>NON_RELEVANT</td>\n",
       "      <td>The generated answer is not relevant to the or...</td>\n",
       "    </tr>\n",
       "    <tr>\n",
       "      <th>41</th>\n",
       "      <td>What are some suggested ways to utilize large ...</td>\n",
       "      <td>The provided context does not suggest specific...</td>\n",
       "      <td>Experimenting with various system prompts, suc...</td>\n",
       "      <td>87</td>\n",
       "      <td>0.502092</td>\n",
       "      <td>NON_RELEVANT</td>\n",
       "      <td>The generated answer completely ignores the in...</td>\n",
       "    </tr>\n",
       "  </tbody>\n",
       "</table>\n",
       "</div>"
      ]
     },
     "execution_count": 20,
     "metadata": {},
     "output_type": "execute_result"
    }
   ],
   "execution_count": 20
  },
  {
   "metadata": {
    "ExecuteTime": {
     "end_time": "2024-09-16T14:38:54.281836Z",
     "start_time": "2024-09-16T14:35:04.404012Z"
    }
   },
   "cell_type": "code",
   "source": [
    "df_evaluations_aq = llm_as_a_judge(llm_judge_aq_template, df_answers)\n",
    "df_answers['aq_relevance'] = df_evaluations_aq['relevance']\n",
    "df_answers['aq_relevance_explanation'] = df_evaluations_aq['explanation']"
   ],
   "id": "86ef2cb9ff7ff9ba",
   "outputs": [
    {
     "data": {
      "text/plain": [
       "Evaluating with LLM as a judge:   0%|          | 0/45 [00:00<?, ?it/s]"
      ],
      "application/vnd.jupyter.widget-view+json": {
       "version_major": 2,
       "version_minor": 0,
       "model_id": "f6385fd27f324be4afb170a9fc648358"
      }
     },
     "metadata": {},
     "output_type": "display_data"
    }
   ],
   "execution_count": 21
  },
  {
   "metadata": {
    "ExecuteTime": {
     "end_time": "2024-09-16T14:38:54.355730Z",
     "start_time": "2024-09-16T14:38:54.352552Z"
    }
   },
   "cell_type": "code",
   "source": "df_answers['aq_relevance'].value_counts()",
   "id": "1e8dd21d2bf4908f",
   "outputs": [
    {
     "data": {
      "text/plain": [
       "aq_relevance\n",
       "RELEVANT              39\n",
       "PARTIALLY_RELEVANT     4\n",
       "NON_RELEVANT           2\n",
       "Name: count, dtype: int64"
      ]
     },
     "execution_count": 22,
     "metadata": {},
     "output_type": "execute_result"
    }
   ],
   "execution_count": 22
  },
  {
   "metadata": {
    "ExecuteTime": {
     "end_time": "2024-09-16T14:38:54.531588Z",
     "start_time": "2024-09-16T14:38:54.526804Z"
    }
   },
   "cell_type": "code",
   "source": "df_answers['aq_relevance'].value_counts(normalize=True)",
   "id": "cea0029ac4440908",
   "outputs": [
    {
     "data": {
      "text/plain": [
       "aq_relevance\n",
       "RELEVANT              0.866667\n",
       "PARTIALLY_RELEVANT    0.088889\n",
       "NON_RELEVANT          0.044444\n",
       "Name: proportion, dtype: float64"
      ]
     },
     "execution_count": 23,
     "metadata": {},
     "output_type": "execute_result"
    }
   ],
   "execution_count": 23
  },
  {
   "metadata": {
    "ExecuteTime": {
     "end_time": "2024-09-16T14:38:54.743378Z",
     "start_time": "2024-09-16T14:38:54.737585Z"
    }
   },
   "cell_type": "code",
   "source": "df_answers[df_answers['aq_relevance'] == 'PARTIALLY_RELEVANT']",
   "id": "5e0b8b0c316c7184",
   "outputs": [
    {
     "data": {
      "text/plain": [
       "                                             question  \\\n",
       "3   Where do the mathematics problems originate from?   \n",
       "8     How is accuracy calculated in this competition?   \n",
       "10  What is the primary evaluation metric for this...   \n",
       "14  What is the recommended action to take before ...   \n",
       "\n",
       "                                       answer_copilot  \\\n",
       "3   The mathematics problems originate from the [Е...   \n",
       "8   Accuracy is calculated by dividing the number ...   \n",
       "10  The primary evaluation metric for this competi...   \n",
       "14  Before submitting your file, ensure you valida...   \n",
       "\n",
       "                                          answer_orig  document_orig  \\\n",
       "3   The problems originate from the Unified State ...              2   \n",
       "8   Accuracy is defined as the proportion of corre...              4   \n",
       "10                                           Accuracy              6   \n",
       "14  Make sure to validate the submission file form...              7   \n",
       "\n",
       "    cosine_similarity aa_relevance  \\\n",
       "3            0.965727     RELEVANT   \n",
       "8            0.900809     RELEVANT   \n",
       "10           0.464731     RELEVANT   \n",
       "14           0.952906     RELEVANT   \n",
       "\n",
       "                             aa_relevance_explanation        aq_relevance  \\\n",
       "3   The generated answer is identical to the origi...  PARTIALLY_RELEVANT   \n",
       "8   Both the original and generated answers define...  PARTIALLY_RELEVANT   \n",
       "10  The generated answer correctly identifies 'acc...  PARTIALLY_RELEVANT   \n",
       "14  The generated answer is essentially a rephrase...  PARTIALLY_RELEVANT   \n",
       "\n",
       "                             aq_relevance_explanation  \n",
       "3   The answer mentions a source of math problems,...  \n",
       "8   The answer provides a general definition of ac...  \n",
       "10  While the answer mentions an evaluation metric...  \n",
       "14  The answer is partially relevant as it mention...  "
      ],
      "text/html": [
       "<div>\n",
       "<style scoped>\n",
       "    .dataframe tbody tr th:only-of-type {\n",
       "        vertical-align: middle;\n",
       "    }\n",
       "\n",
       "    .dataframe tbody tr th {\n",
       "        vertical-align: top;\n",
       "    }\n",
       "\n",
       "    .dataframe thead th {\n",
       "        text-align: right;\n",
       "    }\n",
       "</style>\n",
       "<table border=\"1\" class=\"dataframe\">\n",
       "  <thead>\n",
       "    <tr style=\"text-align: right;\">\n",
       "      <th></th>\n",
       "      <th>question</th>\n",
       "      <th>answer_copilot</th>\n",
       "      <th>answer_orig</th>\n",
       "      <th>document_orig</th>\n",
       "      <th>cosine_similarity</th>\n",
       "      <th>aa_relevance</th>\n",
       "      <th>aa_relevance_explanation</th>\n",
       "      <th>aq_relevance</th>\n",
       "      <th>aq_relevance_explanation</th>\n",
       "    </tr>\n",
       "  </thead>\n",
       "  <tbody>\n",
       "    <tr>\n",
       "      <th>3</th>\n",
       "      <td>Where do the mathematics problems originate from?</td>\n",
       "      <td>The mathematics problems originate from the [Е...</td>\n",
       "      <td>The problems originate from the Unified State ...</td>\n",
       "      <td>2</td>\n",
       "      <td>0.965727</td>\n",
       "      <td>RELEVANT</td>\n",
       "      <td>The generated answer is identical to the origi...</td>\n",
       "      <td>PARTIALLY_RELEVANT</td>\n",
       "      <td>The answer mentions a source of math problems,...</td>\n",
       "    </tr>\n",
       "    <tr>\n",
       "      <th>8</th>\n",
       "      <td>How is accuracy calculated in this competition?</td>\n",
       "      <td>Accuracy is calculated by dividing the number ...</td>\n",
       "      <td>Accuracy is defined as the proportion of corre...</td>\n",
       "      <td>4</td>\n",
       "      <td>0.900809</td>\n",
       "      <td>RELEVANT</td>\n",
       "      <td>Both the original and generated answers define...</td>\n",
       "      <td>PARTIALLY_RELEVANT</td>\n",
       "      <td>The answer provides a general definition of ac...</td>\n",
       "    </tr>\n",
       "    <tr>\n",
       "      <th>10</th>\n",
       "      <td>What is the primary evaluation metric for this...</td>\n",
       "      <td>The primary evaluation metric for this competi...</td>\n",
       "      <td>Accuracy</td>\n",
       "      <td>6</td>\n",
       "      <td>0.464731</td>\n",
       "      <td>RELEVANT</td>\n",
       "      <td>The generated answer correctly identifies 'acc...</td>\n",
       "      <td>PARTIALLY_RELEVANT</td>\n",
       "      <td>While the answer mentions an evaluation metric...</td>\n",
       "    </tr>\n",
       "    <tr>\n",
       "      <th>14</th>\n",
       "      <td>What is the recommended action to take before ...</td>\n",
       "      <td>Before submitting your file, ensure you valida...</td>\n",
       "      <td>Make sure to validate the submission file form...</td>\n",
       "      <td>7</td>\n",
       "      <td>0.952906</td>\n",
       "      <td>RELEVANT</td>\n",
       "      <td>The generated answer is essentially a rephrase...</td>\n",
       "      <td>PARTIALLY_RELEVANT</td>\n",
       "      <td>The answer is partially relevant as it mention...</td>\n",
       "    </tr>\n",
       "  </tbody>\n",
       "</table>\n",
       "</div>"
      ]
     },
     "execution_count": 24,
     "metadata": {},
     "output_type": "execute_result"
    }
   ],
   "execution_count": 24
  },
  {
   "metadata": {
    "ExecuteTime": {
     "end_time": "2024-09-16T15:28:05.289270Z",
     "start_time": "2024-09-16T15:28:05.283290Z"
    }
   },
   "cell_type": "code",
   "source": "df_answers.to_csv(f'../data/evaluation/{competition_slug}-end2end-evaluation.csv', index=False)",
   "id": "c24cebbf050e9224",
   "outputs": [],
   "execution_count": 47
  },
  {
   "metadata": {},
   "cell_type": "markdown",
   "source": "### Evaluation for 2nd dataset",
   "id": "b74f5540a458a345"
  },
  {
   "metadata": {
    "ExecuteTime": {
     "end_time": "2024-09-16T14:49:32.139532Z",
     "start_time": "2024-09-16T14:49:32.135252Z"
    }
   },
   "cell_type": "code",
   "source": [
    "def evaluate_end2end(competition_slug: str, \n",
    "                     retrieval_configs: Optional[dict] = None, num_results: int = 5, \n",
    "                     generation_llm_prompt: Optional[str] = None):\n",
    "    assistant = create_assistant(competition_slug)\n",
    "    \n",
    "    df_question = pd.read_csv(f'../data/evaluation/{competition_slug}-ground-truth.csv')\n",
    "    ground_truth = df_question.to_dict(orient='records')\n",
    "    \n",
    "    assistant_answers = generate_assistant_answers(assistant, ground_truth,\n",
    "                                                 retrieval_configs=retrieval_configs, num_results=num_results, generation_llm_prompt=generation_llm_prompt)\n",
    "    \n",
    "    df_answers = pd.DataFrame(assistant_answers.values(), columns=['question', 'answer_assistant', 'answer_orig', 'document_orig'])\n",
    "    # df_answers.to_csv(f'../data/evaluation/{competition_slug}-rag-answers.csv', index=False)\n",
    "    \n",
    "    # cosine sim\n",
    "    df_answers['cosine_similarity'] = df_answers.progress_apply(lambda row: compute_similarity(row), axis=1)\n",
    "    \n",
    "    # aa relevance\n",
    "    df_evaluations_aa = llm_as_a_judge(llm_judge_aa_template, df_answers)\n",
    "    df_answers['aa_relevance'] = df_evaluations_aa['relevance']\n",
    "    df_answers['aa_relevance_explanation'] = df_evaluations_aa['explanation']\n",
    "    \n",
    "    # aq relevance\n",
    "    df_evaluations_aq = llm_as_a_judge(llm_judge_aq_template, df_answers)\n",
    "    df_answers['aq_relevance'] = df_evaluations_aq['relevance']\n",
    "    df_answers['aq_relevance_explanation'] = df_evaluations_aq['explanation']\n",
    "    \n",
    "    return df_answers"
   ],
   "id": "4d9a51e5202c650e",
   "outputs": [],
   "execution_count": 30
  },
  {
   "metadata": {
    "ExecuteTime": {
     "end_time": "2024-09-16T15:16:04.581246Z",
     "start_time": "2024-09-16T14:49:33.740730Z"
    }
   },
   "cell_type": "code",
   "source": [
    "competition_slug = 'rohlik-orders-forecasting-challenge'\n",
    "df_answers_2 = evaluate_end2end(competition_slug,\n",
    "                                retrieval_configs={'search_type': 'semantic'}, num_results=10)"
   ],
   "id": "aa43ccb5342a7b99",
   "outputs": [
    {
     "name": "stderr",
     "output_type": "stream",
     "text": [
      "/Users/vladkha/Desktop/Workspace/Coding/kaggle-competition-copilot/.venv/lib/python3.11/site-packages/transformers/tokenization_utils_base.py:1601: FutureWarning: `clean_up_tokenization_spaces` was not set. It will be set to `True` by default. This behavior will be depracted in transformers v4.45, and will be then set to `False` by default. For more details check this issue: https://github.com/huggingface/transformers/issues/31884\n",
      "  warnings.warn(\n"
     ]
    },
    {
     "data": {
      "text/plain": [
       "Creating document embeddings:   0%|          | 0/1117 [00:00<?, ?it/s]"
      ],
      "application/vnd.jupyter.widget-view+json": {
       "version_major": 2,
       "version_minor": 0,
       "model_id": "8ca19bbdd07847709a45b946f2c2506b"
      }
     },
     "metadata": {},
     "output_type": "display_data"
    },
    {
     "data": {
      "text/plain": [
       "  0%|          | 0/115 [00:00<?, ?it/s]"
      ],
      "application/vnd.jupyter.widget-view+json": {
       "version_major": 2,
       "version_minor": 0,
       "model_id": "bc2bfe66109446a6bb2e05db9072d114"
      }
     },
     "metadata": {},
     "output_type": "display_data"
    },
    {
     "data": {
      "text/plain": [
       "  0%|          | 0/115 [00:00<?, ?it/s]"
      ],
      "application/vnd.jupyter.widget-view+json": {
       "version_major": 2,
       "version_minor": 0,
       "model_id": "f55cef6bbf2f40acb354e447f35ecfe7"
      }
     },
     "metadata": {},
     "output_type": "display_data"
    },
    {
     "data": {
      "text/plain": [
       "Evaluating with LLM as a judge:   0%|          | 0/115 [00:00<?, ?it/s]"
      ],
      "application/vnd.jupyter.widget-view+json": {
       "version_major": 2,
       "version_minor": 0,
       "model_id": "d08e3b28658c4cda989b181d6715d6b8"
      }
     },
     "metadata": {},
     "output_type": "display_data"
    },
    {
     "data": {
      "text/plain": [
       "Evaluating with LLM as a judge:   0%|          | 0/115 [00:00<?, ?it/s]"
      ],
      "application/vnd.jupyter.widget-view+json": {
       "version_major": 2,
       "version_minor": 0,
       "model_id": "8dbc5d14149344d69e95c3dfb05c0a14"
      }
     },
     "metadata": {},
     "output_type": "display_data"
    },
    {
     "name": "stdout",
     "output_type": "stream",
     "text": [
      "\n",
      "{\n",
      "  \"relevance\": \"PARTIALLY_RELEVANT\",\n",
      "  \"explanation\": \"The answer acknowledges the lack of explicitly stated restrictions, but it also mentions various tools that can be used for prediction generation, which is tangentially related to the question's focus on hardware/software restrictions.\"\n",
      "}\n",
      "``` \n",
      "\n",
      "Failed generating judgement: Extra data: line 6 column 1 (char 297). Trying again...\n"
     ]
    }
   ],
   "execution_count": 31
  },
  {
   "metadata": {
    "ExecuteTime": {
     "end_time": "2024-09-16T15:16:05.720011Z",
     "start_time": "2024-09-16T15:16:05.715023Z"
    }
   },
   "cell_type": "code",
   "source": "df_answers_2['cosine_similarity'].describe()",
   "id": "b38fd114677a35d4",
   "outputs": [
    {
     "data": {
      "text/plain": [
       "count    115.000000\n",
       "mean       0.681473\n",
       "std        0.187289\n",
       "min        0.109915\n",
       "25%        0.558338\n",
       "50%        0.722075\n",
       "75%        0.826727\n",
       "max        0.992766\n",
       "Name: cosine_similarity, dtype: float64"
      ]
     },
     "execution_count": 32,
     "metadata": {},
     "output_type": "execute_result"
    }
   ],
   "execution_count": 32
  },
  {
   "metadata": {
    "ExecuteTime": {
     "end_time": "2024-09-16T15:22:02.197751Z",
     "start_time": "2024-09-16T15:22:02.193915Z"
    }
   },
   "cell_type": "code",
   "source": "df_answers_2['aa_relevance'].value_counts()",
   "id": "47986dbfd908b7f8",
   "outputs": [
    {
     "data": {
      "text/plain": [
       "aa_relevance\n",
       "RELEVANT              61\n",
       "PARTIALLY_RELEVANT    34\n",
       "NON_RELEVANT          20\n",
       "Name: count, dtype: int64"
      ]
     },
     "execution_count": 40,
     "metadata": {},
     "output_type": "execute_result"
    }
   ],
   "execution_count": 40
  },
  {
   "metadata": {
    "ExecuteTime": {
     "end_time": "2024-09-16T15:22:05.803838Z",
     "start_time": "2024-09-16T15:22:05.798900Z"
    }
   },
   "cell_type": "code",
   "source": "df_answers_2['aa_relevance'].value_counts(normalize=True)",
   "id": "3c80e9b01c7fced6",
   "outputs": [
    {
     "data": {
      "text/plain": [
       "aa_relevance\n",
       "RELEVANT              0.530435\n",
       "PARTIALLY_RELEVANT    0.295652\n",
       "NON_RELEVANT          0.173913\n",
       "Name: proportion, dtype: float64"
      ]
     },
     "execution_count": 41,
     "metadata": {},
     "output_type": "execute_result"
    }
   ],
   "execution_count": 41
  },
  {
   "metadata": {
    "ExecuteTime": {
     "end_time": "2024-09-16T15:16:06.136342Z",
     "start_time": "2024-09-16T15:16:06.133154Z"
    }
   },
   "cell_type": "code",
   "source": "df_answers_2['aq_relevance'].value_counts()",
   "id": "bd1a825db343b400",
   "outputs": [
    {
     "data": {
      "text/plain": [
       "aq_relevance\n",
       "RELEVANT              67\n",
       "PARTIALLY_RELEVANT    34\n",
       "NON_RELEVANT          14\n",
       "Name: count, dtype: int64"
      ]
     },
     "execution_count": 35,
     "metadata": {},
     "output_type": "execute_result"
    }
   ],
   "execution_count": 35
  },
  {
   "metadata": {
    "ExecuteTime": {
     "end_time": "2024-09-16T15:24:23.924263Z",
     "start_time": "2024-09-16T15:24:23.916727Z"
    }
   },
   "cell_type": "code",
   "source": "df_answers_2['aq_relevance'].value_counts(normalize=True)",
   "id": "be1c163a02683025",
   "outputs": [
    {
     "data": {
      "text/plain": [
       "aq_relevance\n",
       "RELEVANT              0.582609\n",
       "PARTIALLY_RELEVANT    0.295652\n",
       "NON_RELEVANT          0.121739\n",
       "Name: proportion, dtype: float64"
      ]
     },
     "execution_count": 42,
     "metadata": {},
     "output_type": "execute_result"
    }
   ],
   "execution_count": 42
  },
  {
   "metadata": {
    "ExecuteTime": {
     "end_time": "2024-09-16T15:28:23.042336Z",
     "start_time": "2024-09-16T15:28:23.027469Z"
    }
   },
   "cell_type": "code",
   "source": "df_answers_2.to_csv(f'../data/evaluation/{competition_slug}-end2end-evaluation.csv', index=False)",
   "id": "cd89d55dbc5686da",
   "outputs": [],
   "execution_count": 48
  },
  {
   "metadata": {},
   "cell_type": "markdown",
   "source": "### Evaluation with different prompt",
   "id": "65ac326ec8a1484b"
  },
  {
   "metadata": {
    "ExecuteTime": {
     "end_time": "2024-09-16T15:29:00.070384Z",
     "start_time": "2024-09-16T15:29:00.065374Z"
    }
   },
   "cell_type": "code",
   "source": [
    "improved_prompt_template = \"\"\"\n",
    "You are a Kaggle competition assistant.\n",
    "Answer the QUESTION based on the CONTEXT from the web page about the competition.\n",
    "Use only the facts from the CONTEXT when answering the QUESTION.\n",
    "Be concise and to the point.\n",
    "\n",
    "QUESTION: {question}\n",
    "\n",
    "CONTEXT:\n",
    "{context}\n",
    "\"\"\".strip()"
   ],
   "id": "c2eff5c623da4b74",
   "outputs": [],
   "execution_count": 49
  },
  {
   "metadata": {
    "ExecuteTime": {
     "end_time": "2024-09-16T15:39:17.050378Z",
     "start_time": "2024-09-16T15:29:00.303569Z"
    }
   },
   "cell_type": "code",
   "source": [
    "competition_slug = 'llm-zoomcamp-2024-competition'\n",
    "df_answers_zoomcamp_2 = evaluate_end2end(competition_slug,\n",
    "                                         retrieval_configs={\n",
    "                                             'search_type': 'hybrid_rff',\n",
    "                                             'boost_dict': {\"source\": 9.15, \"section\": 2.21, \"text\": 0.63}\n",
    "                                         }, num_results=10,\n",
    "                                         generation_llm_prompt=improved_prompt_template)\n",
    "df_answers_zoomcamp_2.to_csv(f'../data/evaluation/{competition_slug}-end2end-evaluation2.csv', index=False)"
   ],
   "id": "47ea1be466e51538",
   "outputs": [
    {
     "name": "stderr",
     "output_type": "stream",
     "text": [
      "/Users/vladkha/Desktop/Workspace/Coding/kaggle-competition-copilot/.venv/lib/python3.11/site-packages/transformers/tokenization_utils_base.py:1601: FutureWarning: `clean_up_tokenization_spaces` was not set. It will be set to `True` by default. This behavior will be depracted in transformers v4.45, and will be then set to `False` by default. For more details check this issue: https://github.com/huggingface/transformers/issues/31884\n",
      "  warnings.warn(\n"
     ]
    },
    {
     "data": {
      "text/plain": [
       "Creating document embeddings:   0%|          | 0/91 [00:00<?, ?it/s]"
      ],
      "application/vnd.jupyter.widget-view+json": {
       "version_major": 2,
       "version_minor": 0,
       "model_id": "96c901195a0d4ce78d91bd54ac9a17a7"
      }
     },
     "metadata": {},
     "output_type": "display_data"
    },
    {
     "data": {
      "text/plain": [
       "  0%|          | 0/45 [00:00<?, ?it/s]"
      ],
      "application/vnd.jupyter.widget-view+json": {
       "version_major": 2,
       "version_minor": 0,
       "model_id": "c62fb6c42b72403b856dbe9127f946d0"
      }
     },
     "metadata": {},
     "output_type": "display_data"
    },
    {
     "data": {
      "text/plain": [
       "  0%|          | 0/45 [00:00<?, ?it/s]"
      ],
      "application/vnd.jupyter.widget-view+json": {
       "version_major": 2,
       "version_minor": 0,
       "model_id": "afe20aca78014e77bf3d19e111ab7c76"
      }
     },
     "metadata": {},
     "output_type": "display_data"
    },
    {
     "data": {
      "text/plain": [
       "Evaluating with LLM as a judge:   0%|          | 0/45 [00:00<?, ?it/s]"
      ],
      "application/vnd.jupyter.widget-view+json": {
       "version_major": 2,
       "version_minor": 0,
       "model_id": "0978eab71e824277913f8888da37d367"
      }
     },
     "metadata": {},
     "output_type": "display_data"
    },
    {
     "name": "stdout",
     "output_type": "stream",
     "text": [
      "\n",
      "{\n",
      "  \"relevance\": \"PARTIALLY_RELEVANT\",\n",
      "  \"explanation\": \"The generated answer mentions solving high school math problems, which aligns with the original answer. However, it adds details about language and model development that are not present in the original answer. Therefore, it's partially relevant.\"\n",
      "}\n",
      "``` \n",
      "\n",
      "Failed generating judgement: Extra data: line 6 column 1 (char 308). Trying again...\n"
     ]
    },
    {
     "data": {
      "text/plain": [
       "Evaluating with LLM as a judge:   0%|          | 0/45 [00:00<?, ?it/s]"
      ],
      "application/vnd.jupyter.widget-view+json": {
       "version_major": 2,
       "version_minor": 0,
       "model_id": "d43ec28fda714039b87a2adb9cfa41a4"
      }
     },
     "metadata": {},
     "output_type": "display_data"
    }
   ],
   "execution_count": 50
  },
  {
   "metadata": {
    "ExecuteTime": {
     "end_time": "2024-09-16T15:39:17.098221Z",
     "start_time": "2024-09-16T15:39:17.062668Z"
    }
   },
   "cell_type": "code",
   "source": "df_answers_zoomcamp_2['cosine_similarity'].describe()",
   "id": "fd6caaff01c13929",
   "outputs": [
    {
     "data": {
      "text/plain": [
       "count    45.000000\n",
       "mean      0.830977\n",
       "std       0.215939\n",
       "min       0.035656\n",
       "25%       0.795087\n",
       "50%       0.902256\n",
       "75%       1.000000\n",
       "max       1.000000\n",
       "Name: cosine_similarity, dtype: float64"
      ]
     },
     "execution_count": 51,
     "metadata": {},
     "output_type": "execute_result"
    }
   ],
   "execution_count": 51
  },
  {
   "metadata": {
    "ExecuteTime": {
     "end_time": "2024-09-16T15:39:17.133915Z",
     "start_time": "2024-09-16T15:39:17.123714Z"
    }
   },
   "cell_type": "code",
   "source": "df_answers_zoomcamp_2['aa_relevance'].value_counts()",
   "id": "d24a31080543d0f0",
   "outputs": [
    {
     "data": {
      "text/plain": [
       "aa_relevance\n",
       "RELEVANT              35\n",
       "PARTIALLY_RELEVANT     5\n",
       "NON_RELEVANT           5\n",
       "Name: count, dtype: int64"
      ]
     },
     "execution_count": 52,
     "metadata": {},
     "output_type": "execute_result"
    }
   ],
   "execution_count": 52
  },
  {
   "metadata": {
    "ExecuteTime": {
     "end_time": "2024-09-16T15:39:17.217284Z",
     "start_time": "2024-09-16T15:39:17.205822Z"
    }
   },
   "cell_type": "code",
   "source": "df_answers_zoomcamp_2['aa_relevance'].value_counts(normalize=True)",
   "id": "4eced2550f70c828",
   "outputs": [
    {
     "data": {
      "text/plain": [
       "aa_relevance\n",
       "RELEVANT              0.777778\n",
       "PARTIALLY_RELEVANT    0.111111\n",
       "NON_RELEVANT          0.111111\n",
       "Name: proportion, dtype: float64"
      ]
     },
     "execution_count": 53,
     "metadata": {},
     "output_type": "execute_result"
    }
   ],
   "execution_count": 53
  },
  {
   "metadata": {
    "ExecuteTime": {
     "end_time": "2024-09-16T15:39:17.318556Z",
     "start_time": "2024-09-16T15:39:17.299511Z"
    }
   },
   "cell_type": "code",
   "source": "df_answers_zoomcamp_2['aq_relevance'].value_counts()",
   "id": "2d9f46a76f23c1f4",
   "outputs": [
    {
     "data": {
      "text/plain": [
       "aq_relevance\n",
       "RELEVANT              26\n",
       "PARTIALLY_RELEVANT    11\n",
       "NON_RELEVANT           8\n",
       "Name: count, dtype: int64"
      ]
     },
     "execution_count": 54,
     "metadata": {},
     "output_type": "execute_result"
    }
   ],
   "execution_count": 54
  },
  {
   "metadata": {
    "ExecuteTime": {
     "end_time": "2024-09-16T15:39:17.426258Z",
     "start_time": "2024-09-16T15:39:17.422572Z"
    }
   },
   "cell_type": "code",
   "source": "df_answers_zoomcamp_2['aq_relevance'].value_counts(normalize=True)",
   "id": "9aaa26ebe45e905e",
   "outputs": [
    {
     "data": {
      "text/plain": [
       "aq_relevance\n",
       "RELEVANT              0.577778\n",
       "PARTIALLY_RELEVANT    0.244444\n",
       "NON_RELEVANT          0.177778\n",
       "Name: proportion, dtype: float64"
      ]
     },
     "execution_count": 55,
     "metadata": {},
     "output_type": "execute_result"
    }
   ],
   "execution_count": 55
  },
  {
   "metadata": {
    "ExecuteTime": {
     "end_time": "2024-09-16T16:16:16.696390Z",
     "start_time": "2024-09-16T15:39:17.652936Z"
    }
   },
   "cell_type": "code",
   "source": [
    "competition_slug = 'rohlik-orders-forecasting-challenge'\n",
    "df_answers_rohlik_2 = evaluate_end2end(competition_slug,\n",
    "                                       retrieval_configs={'search_type': 'semantic'}, num_results=10,\n",
    "                                       generation_llm_prompt=improved_prompt_template)\n",
    "df_answers_rohlik_2.to_csv(f'../data/evaluation/{competition_slug}-end2end-evaluation2.csv', index=False)"
   ],
   "id": "ce7987e5b7ab32e0",
   "outputs": [
    {
     "name": "stderr",
     "output_type": "stream",
     "text": [
      "/Users/vladkha/Desktop/Workspace/Coding/kaggle-competition-copilot/.venv/lib/python3.11/site-packages/transformers/tokenization_utils_base.py:1601: FutureWarning: `clean_up_tokenization_spaces` was not set. It will be set to `True` by default. This behavior will be depracted in transformers v4.45, and will be then set to `False` by default. For more details check this issue: https://github.com/huggingface/transformers/issues/31884\n",
      "  warnings.warn(\n"
     ]
    },
    {
     "data": {
      "text/plain": [
       "Creating document embeddings:   0%|          | 0/1117 [00:00<?, ?it/s]"
      ],
      "application/vnd.jupyter.widget-view+json": {
       "version_major": 2,
       "version_minor": 0,
       "model_id": "6b63d59f97fe4c558c9d17ea5f5c97c3"
      }
     },
     "metadata": {},
     "output_type": "display_data"
    },
    {
     "data": {
      "text/plain": [
       "  0%|          | 0/115 [00:00<?, ?it/s]"
      ],
      "application/vnd.jupyter.widget-view+json": {
       "version_major": 2,
       "version_minor": 0,
       "model_id": "823d519783224946a47e48b4a4244fd2"
      }
     },
     "metadata": {},
     "output_type": "display_data"
    },
    {
     "data": {
      "text/plain": [
       "  0%|          | 0/115 [00:00<?, ?it/s]"
      ],
      "application/vnd.jupyter.widget-view+json": {
       "version_major": 2,
       "version_minor": 0,
       "model_id": "57bb2cd8a2dc46db9fda6963f3521fae"
      }
     },
     "metadata": {},
     "output_type": "display_data"
    },
    {
     "data": {
      "text/plain": [
       "Evaluating with LLM as a judge:   0%|          | 0/115 [00:00<?, ?it/s]"
      ],
      "application/vnd.jupyter.widget-view+json": {
       "version_major": 2,
       "version_minor": 0,
       "model_id": "ea604443665241bb8d749449d4d7e227"
      }
     },
     "metadata": {},
     "output_type": "display_data"
    },
    {
     "data": {
      "text/plain": [
       "Evaluating with LLM as a judge:   0%|          | 0/115 [00:00<?, ?it/s]"
      ],
      "application/vnd.jupyter.widget-view+json": {
       "version_major": 2,
       "version_minor": 0,
       "model_id": "ca5019c1db0f48b1a132b7ee1c17aa65"
      }
     },
     "metadata": {},
     "output_type": "display_data"
    },
    {
     "name": "stdout",
     "output_type": "stream",
     "text": [
      "\n",
      "{\n",
      "  \"relevance\": \"PARTIALLY_RELEVANT\",\n",
      "  \"explanation\": \"The answer focuses on using the features to \"correct\" the target, which is not directly addressing the question of dealing with missing features in the test set. However, it does mention training separate models to predict the value of the missing features, which is partially relevant to the question.\"\n",
      "}\n",
      "\n",
      "Failed generating judgement: Expecting ',' delimiter: line 4 column 64 (char 103). Trying again...\n"
     ]
    }
   ],
   "execution_count": 56
  },
  {
   "metadata": {
    "ExecuteTime": {
     "end_time": "2024-09-16T16:16:16.902482Z",
     "start_time": "2024-09-16T16:16:16.887518Z"
    }
   },
   "cell_type": "code",
   "source": "df_answers_rohlik_2['cosine_similarity'].describe()",
   "id": "e17c138d8a25ff41",
   "outputs": [
    {
     "data": {
      "text/plain": [
       "count    115.000000\n",
       "mean       0.756441\n",
       "std        0.184881\n",
       "min        0.067134\n",
       "25%        0.634209\n",
       "50%        0.771948\n",
       "75%        0.905124\n",
       "max        1.000000\n",
       "Name: cosine_similarity, dtype: float64"
      ]
     },
     "execution_count": 57,
     "metadata": {},
     "output_type": "execute_result"
    }
   ],
   "execution_count": 57
  },
  {
   "metadata": {
    "ExecuteTime": {
     "end_time": "2024-09-16T16:16:16.928235Z",
     "start_time": "2024-09-16T16:16:16.918007Z"
    }
   },
   "cell_type": "code",
   "source": "df_answers_rohlik_2['aa_relevance'].value_counts()",
   "id": "6a2ce6696de5559e",
   "outputs": [
    {
     "data": {
      "text/plain": [
       "aa_relevance\n",
       "RELEVANT              64\n",
       "PARTIALLY_RELEVANT    38\n",
       "NON_RELEVANT          13\n",
       "Name: count, dtype: int64"
      ]
     },
     "execution_count": 58,
     "metadata": {},
     "output_type": "execute_result"
    }
   ],
   "execution_count": 58
  },
  {
   "metadata": {
    "ExecuteTime": {
     "end_time": "2024-09-16T16:16:16.952418Z",
     "start_time": "2024-09-16T16:16:16.948139Z"
    }
   },
   "cell_type": "code",
   "source": "df_answers_rohlik_2['aa_relevance'].value_counts(normalize=True)",
   "id": "54977d0eaf3afe5c",
   "outputs": [
    {
     "data": {
      "text/plain": [
       "aa_relevance\n",
       "RELEVANT              0.556522\n",
       "PARTIALLY_RELEVANT    0.330435\n",
       "NON_RELEVANT          0.113043\n",
       "Name: proportion, dtype: float64"
      ]
     },
     "execution_count": 59,
     "metadata": {},
     "output_type": "execute_result"
    }
   ],
   "execution_count": 59
  },
  {
   "metadata": {
    "ExecuteTime": {
     "end_time": "2024-09-16T16:16:17.026545Z",
     "start_time": "2024-09-16T16:16:17.023091Z"
    }
   },
   "cell_type": "code",
   "source": "df_answers_rohlik_2['aq_relevance'].value_counts()",
   "id": "1d591d2e3901b931",
   "outputs": [
    {
     "data": {
      "text/plain": [
       "aq_relevance\n",
       "RELEVANT              57\n",
       "PARTIALLY_RELEVANT    48\n",
       "NON_RELEVANT          10\n",
       "Name: count, dtype: int64"
      ]
     },
     "execution_count": 60,
     "metadata": {},
     "output_type": "execute_result"
    }
   ],
   "execution_count": 60
  },
  {
   "metadata": {
    "ExecuteTime": {
     "end_time": "2024-09-16T16:16:17.138581Z",
     "start_time": "2024-09-16T16:16:17.134716Z"
    }
   },
   "cell_type": "code",
   "source": "df_answers_rohlik_2['aq_relevance'].value_counts(normalize=True)",
   "id": "7d0ca3ee8dae7de0",
   "outputs": [
    {
     "data": {
      "text/plain": [
       "aq_relevance\n",
       "RELEVANT              0.495652\n",
       "PARTIALLY_RELEVANT    0.417391\n",
       "NON_RELEVANT          0.086957\n",
       "Name: proportion, dtype: float64"
      ]
     },
     "execution_count": 61,
     "metadata": {},
     "output_type": "execute_result"
    }
   ],
   "execution_count": 61
  },
  {
   "metadata": {},
   "cell_type": "code",
   "outputs": [],
   "execution_count": null,
   "source": "",
   "id": "64dd4f82b92ae1f8"
  }
 ],
 "metadata": {
  "kernelspec": {
   "display_name": "Python 3",
   "language": "python",
   "name": "python3"
  },
  "language_info": {
   "codemirror_mode": {
    "name": "ipython",
    "version": 2
   },
   "file_extension": ".py",
   "mimetype": "text/x-python",
   "name": "python",
   "nbconvert_exporter": "python",
   "pygments_lexer": "ipython2",
   "version": "2.7.6"
  }
 },
 "nbformat": 4,
 "nbformat_minor": 5
}
